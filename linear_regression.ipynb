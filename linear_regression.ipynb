{
 "cells": [
  {
   "cell_type": "markdown",
   "id": "4e5b6df5",
   "metadata": {},
   "source": [
    "## Linear regression\n",
    "\n",
    "This assignment is dedicated to Linear regression. 12 task, 30 points max.\n",
    "\n",
    "By focusing on predicting different features of football players,\n",
    "you will:\n",
    "* gain understanding of mathematics behind Linear Regression model\n",
    "* and become familiar with using `sklearn` library for solving this kind of tasks\n",
    "\n",
    "In the assignment we will:\n",
    "* build Linear regression models with 1 and many variables\n",
    "* use both library methods and manual calculations using mathematical formulas\n",
    "* implement main regression metrics to evaluate performance of our models\n",
    "* explore limitations of classical linear regression\n",
    "\n",
    "### Notes:\n",
    "* do not modify `assert` blocks in code. They are used to check your results\n",
    "    \n",
    "\n",
    "### Data\n",
    "- In this notebook we will work with Football Player attributes per each match played.\n",
    "  \n",
    "  Data is taken from [European Soccer Database](https://www.kaggle.com/hugomathien/soccer) dataset. \n",
    "  \n",
    "  The table used is `Player_Attributes`.\n",
    "\n",
    "\n",
    "### Materias\n",
    "\n",
    "Start with the assignment first. Use materials below as references when needed.\n",
    "\n",
    "* NumPy:\n",
    "    - [quickstart](https://numpy.org/doc/stable/user/quickstart.html)\n",
    "    - [api reference](https://numpy.org/doc/stable/reference/index.html)\n",
    "    \n",
    "\n",
    "* Pandas:\n",
    "    - [10 minutes to pandas](https://pandas.pydata.org/docs/user_guide/10min.html)\n",
    "    - guide on [groupby.transform](https://pandas.pydata.org/docs/user_guide/groupby.html#transformation). \n",
    "      used in one of tasks on data preprocessing\n",
    "    - [cheat sheet](https://pandas.pydata.org/Pandas_Cheat_Sheet.pdf)\n",
    "    \n",
    "\n",
    "* sklearn:\n",
    "    - [LinearRegression](https://scikit-learn.org/stable/modules/generated/sklearn.linear_model.LinearRegression.html#sklearn.linear_model.LinearRegression) class documentation\n",
    "    - guide on [Linear models](https://scikit-learn.org/stable/modules/linear_model.html#ordinary-least-squares)\n",
    "\n",
    "\n",
    "* Matplotlib:\n",
    "    - [cheatsheet](https://matplotlib.org/cheatsheets/)\n",
    "    - examples of [main plot types](https://matplotlib.org/stable/plot_types/index.html)\n",
    "    - [scatter plot](https://matplotlib.org/stable/api/_as_gen/matplotlib.pyplot.scatter.html) documentation"
   ]
  },
  {
   "cell_type": "code",
   "execution_count": null,
   "id": "fdd83a4e",
   "metadata": {},
   "outputs": [],
   "source": []
  },
  {
   "cell_type": "code",
   "execution_count": 8,
   "id": "cccaa2d4",
   "metadata": {
    "ExecuteTime": {
     "end_time": "2022-02-05T15:50:28.686367Z",
     "start_time": "2022-02-05T15:50:27.581843Z"
    }
   },
   "outputs": [],
   "source": [
    "import os\n",
    "\n",
    "import numpy as np\n",
    "import pandas as pd\n",
    "pd.options.display.max_rows = 200\n",
    "pd.options.display.max_columns = 100\n",
    "pd.options.mode.chained_assignment = 'raise'  # forbid chained assignment to prevent implicit errors\n",
    "\n",
    "import matplotlib.pyplot as plt\n",
    "plt.rcParams[\"figure.figsize\"] = (7, 6)  # set default figure size\n",
    "\n",
    "import seaborn as sns\n",
    "sns.set(font_scale=1.1)  # increase default font scale and set seaborn's plot style\n",
    "\n",
    "from typing import List, Iterable"
   ]
  },
  {
   "cell_type": "code",
   "execution_count": null,
   "id": "cf6900e0",
   "metadata": {},
   "outputs": [],
   "source": []
  },
  {
   "cell_type": "markdown",
   "id": "6c59585c",
   "metadata": {},
   "source": [
    "## Data Processing"
   ]
  },
  {
   "cell_type": "code",
   "execution_count": 9,
   "id": "da412d8a",
   "metadata": {
    "ExecuteTime": {
     "end_time": "2022-02-05T15:50:28.701544Z",
     "start_time": "2022-02-05T15:50:28.688368Z"
    }
   },
   "outputs": [
    {
     "name": "stdout",
     "output_type": "stream",
     "text": [
      "data_root_dp: \"D:\\rsschool_3_set\"\n"
     ]
    }
   ],
   "source": [
    "data_root_dp = os.path.join('D:\\\\', 'rsschool_3_set')  # change to yours path\n",
    "print(f'data_root_dp: \"{data_root_dp}\"')"
   ]
  },
  {
   "cell_type": "code",
   "execution_count": null,
   "id": "f466a4c8",
   "metadata": {},
   "outputs": [],
   "source": []
  },
  {
   "cell_type": "markdown",
   "id": "a8b58c0e",
   "metadata": {},
   "source": [
    "### read the raw SQL data\n",
    "* you can run this code only once.<br>\n",
    "  it will read `.sqlite` file and save extracted data to a more handy `.csv` format"
   ]
  },
  {
   "cell_type": "code",
   "execution_count": 7,
   "id": "2d5769d2",
   "metadata": {
    "ExecuteTime": {
     "end_time": "2022-02-05T15:50:28.762969Z",
     "start_time": "2022-02-05T15:50:28.704803Z"
    }
   },
   "outputs": [
    {
     "name": "stdout",
     "output_type": "stream",
     "text": [
      "will read from: \"D:\\rsschool_3_set\\database.sqlite\"\n",
      "shape: (183978, 42)\n",
      "will save to: \"D:\\rsschool_3_set\\tmp\\player_attributes.csv\"\n"
     ]
    }
   ],
   "source": [
    "import sqlite3\n",
    "\n",
    "# open connection to .sqlite file\n",
    "data_sql_fp = os.path.join(data_root_dp, 'database.sqlite')\n",
    "print(f'will read from: \"{data_sql_fp}\"')\n",
    "con = sqlite3.connect(data_sql_fp)\n",
    "\n",
    "df = pd.read_sql('select * from Player_Attributes', con)  # run SQL-query\n",
    "print(f'shape: {df.shape}')\n",
    "con.close()  # close connection to .sqlite file\n",
    "\n",
    "# save to .csv\n",
    "out_fp = os.path.join(data_root_dp, 'tmp', 'player_attributes.csv')\n",
    "os.makedirs(os.path.dirname(out_fp), exist_ok=True)  # create directories if needed\n",
    "print(f'will save to: \"{out_fp}\"')\n",
    "df.to_csv(out_fp, index=False)"
   ]
  },
  {
   "cell_type": "code",
   "execution_count": null,
   "id": "5cd4df53",
   "metadata": {},
   "outputs": [],
   "source": []
  },
  {
   "cell_type": "markdown",
   "id": "a53024bd",
   "metadata": {},
   "source": [
    "### read the  data"
   ]
  },
  {
   "cell_type": "code",
   "execution_count": 58,
   "id": "cac90bbf",
   "metadata": {
    "ExecuteTime": {
     "end_time": "2022-02-05T15:50:29.329081Z",
     "start_time": "2022-02-05T15:50:28.764802Z"
    }
   },
   "outputs": [
    {
     "name": "stdout",
     "output_type": "stream",
     "text": [
      "reading from: \"D:\\rsschool_3_set\\tmp\\player_attributes.csv\"\n",
      "(183978, 42)\n"
     ]
    }
   ],
   "source": [
    "data_player_attributes_fp = os.path.join(data_root_dp, 'tmp', 'player_attributes.csv')\n",
    "print(f'reading from: \"{data_player_attributes_fp}\"')\n",
    "df = pd.read_csv(data_player_attributes_fp)\n",
    "print(df.shape)"
   ]
  },
  {
   "cell_type": "code",
   "execution_count": 59,
   "id": "e1dc91bc",
   "metadata": {
    "ExecuteTime": {
     "end_time": "2022-02-05T15:50:29.344600Z",
     "start_time": "2022-02-05T15:50:29.331278Z"
    }
   },
   "outputs": [
    {
     "data": {
      "text/plain": [
       "id                       int64\n",
       "player_fifa_api_id       int64\n",
       "player_api_id            int64\n",
       "date                    object\n",
       "overall_rating         float64\n",
       "potential              float64\n",
       "preferred_foot          object\n",
       "attacking_work_rate     object\n",
       "defensive_work_rate     object\n",
       "crossing               float64\n",
       "finishing              float64\n",
       "heading_accuracy       float64\n",
       "short_passing          float64\n",
       "volleys                float64\n",
       "dribbling              float64\n",
       "curve                  float64\n",
       "free_kick_accuracy     float64\n",
       "long_passing           float64\n",
       "ball_control           float64\n",
       "acceleration           float64\n",
       "sprint_speed           float64\n",
       "agility                float64\n",
       "reactions              float64\n",
       "balance                float64\n",
       "shot_power             float64\n",
       "jumping                float64\n",
       "stamina                float64\n",
       "strength               float64\n",
       "long_shots             float64\n",
       "aggression             float64\n",
       "interceptions          float64\n",
       "positioning            float64\n",
       "vision                 float64\n",
       "penalties              float64\n",
       "marking                float64\n",
       "standing_tackle        float64\n",
       "sliding_tackle         float64\n",
       "gk_diving              float64\n",
       "gk_handling            float64\n",
       "gk_kicking             float64\n",
       "gk_positioning         float64\n",
       "gk_reflexes            float64\n",
       "dtype: object"
      ]
     },
     "execution_count": 59,
     "metadata": {},
     "output_type": "execute_result"
    }
   ],
   "source": [
    "df.dtypes"
   ]
  },
  {
   "cell_type": "code",
   "execution_count": null,
   "id": "f1324cc4",
   "metadata": {},
   "outputs": [],
   "source": []
  },
  {
   "cell_type": "markdown",
   "id": "2dab3be6",
   "metadata": {},
   "source": [
    "### basic data processing"
   ]
  },
  {
   "cell_type": "code",
   "execution_count": 60,
   "id": "d7c07b98",
   "metadata": {
    "ExecuteTime": {
     "end_time": "2022-02-05T15:50:29.530177Z",
     "start_time": "2022-02-05T15:50:29.346142Z"
    }
   },
   "outputs": [
    {
     "name": "stdout",
     "output_type": "stream",
     "text": [
      "will drop following columns: ['id', 'player_fifa_api_id', 'preferred_foot', 'attacking_work_rate', 'defensive_work_rate']\n",
      "df.shape: (183142, 37)\n"
     ]
    }
   ],
   "source": [
    "# there are 3 'id' columns in data. \n",
    "# we will use 'player_api_id' only\n",
    "# and drop other 'id' columns.\n",
    "redundant_key_columns = ['id', 'player_fifa_api_id']\n",
    "\n",
    "# also we will drop categorical columns for this task.\n",
    "categorical_columns = ['preferred_foot', 'attacking_work_rate', 'defensive_work_rate']\n",
    "\n",
    "cols_to_drop = redundant_key_columns + categorical_columns\n",
    "print(f'will drop following columns: {cols_to_drop}')\n",
    "df.drop(columns=cols_to_drop, inplace=True)\n",
    "\n",
    "# rename 'player_api_id' column to shorter one: 'id'.\n",
    "df.rename(columns={'player_api_id': 'id'}, inplace=True)\n",
    "\n",
    "# cast string values to datetime\n",
    "df['date'] = pd.to_datetime(df['date'])\n",
    "\n",
    "# drop records that contain only NaNs in features\n",
    "all_features = set(df.columns).difference(['id', 'date'])  # all columns without key columns\n",
    "df.dropna(subset=all_features, how='all', inplace=True)\n",
    "\n",
    "print(f'df.shape: {df.shape}')"
   ]
  },
  {
   "cell_type": "code",
   "execution_count": 61,
   "id": "0255a6b5",
   "metadata": {
    "ExecuteTime": {
     "end_time": "2022-02-05T15:50:29.577558Z",
     "start_time": "2022-02-05T15:50:29.532174Z"
    }
   },
   "outputs": [
    {
     "name": "stdout",
     "output_type": "stream",
     "text": [
      "(183142, 37)\n"
     ]
    }
   ],
   "source": [
    "# the dataset we're working with migh get updated in future (new records might be added).\n",
    "# thus we remove any records with date larger than the current max date in data (2016-07-07)\n",
    "# for compatibility with current version of notebook.\n",
    "df.drop(index=df[df['date'] > '2016-07-07'].index, inplace=True)\n",
    "print(df.shape)"
   ]
  },
  {
   "cell_type": "code",
   "execution_count": null,
   "id": "49f4ab8d",
   "metadata": {},
   "outputs": [],
   "source": []
  },
  {
   "cell_type": "markdown",
   "id": "3ad265de",
   "metadata": {
    "ExecuteTime": {
     "end_time": "2022-01-28T12:35:41.941544Z",
     "start_time": "2022-01-28T12:35:41.883366Z"
    }
   },
   "source": [
    "### drop duplicates\n",
    "\n",
    "* we should **ALWAYS** understand what our data represents\n",
    "\n",
    "\n",
    "* here we are dealing with Football Player attributes per each match played.\n",
    "\n",
    "  so we expect the data to have `(id, date)` as a key\n",
    "  \n",
    "  \n",
    "* let's check whether our assumption holds"
   ]
  },
  {
   "cell_type": "code",
   "execution_count": 62,
   "id": "030381ee",
   "metadata": {
    "ExecuteTime": {
     "end_time": "2022-02-05T15:50:29.608747Z",
     "start_time": "2022-02-05T15:50:29.580864Z"
    }
   },
   "outputs": [
    {
     "data": {
      "text/plain": [
       "False    183142\n",
       "dtype: int64"
      ]
     },
     "execution_count": 62,
     "metadata": {},
     "output_type": "execute_result"
    }
   ],
   "source": [
    "df.duplicated(['id', 'date']).value_counts()"
   ]
  },
  {
   "cell_type": "markdown",
   "id": "fdf60a16",
   "metadata": {},
   "source": [
    "* there are no duplicates if considering `(id, date)` pair as a key"
   ]
  },
  {
   "cell_type": "code",
   "execution_count": 63,
   "id": "4086ef3f",
   "metadata": {
    "ExecuteTime": {
     "end_time": "2022-02-05T15:50:29.624155Z",
     "start_time": "2022-02-05T15:50:29.609731Z"
    }
   },
   "outputs": [
    {
     "data": {
      "text/plain": [
       "True     172082\n",
       "False     11060\n",
       "dtype: int64"
      ]
     },
     "execution_count": 63,
     "metadata": {},
     "output_type": "execute_result"
    }
   ],
   "source": [
    "df.duplicated('id').value_counts()"
   ]
  },
  {
   "cell_type": "markdown",
   "id": "45c10b6b",
   "metadata": {},
   "source": [
    "* and there are duplicates if considering only `id` column as a key"
   ]
  },
  {
   "cell_type": "markdown",
   "id": "da6c2c00",
   "metadata": {},
   "source": [
    "* so our assumption holds. but let's work only with latest stats for each player"
   ]
  },
  {
   "cell_type": "code",
   "execution_count": null,
   "id": "a9ec3b78",
   "metadata": {},
   "outputs": [],
   "source": []
  },
  {
   "cell_type": "markdown",
   "id": "b1de721c",
   "metadata": {},
   "source": [
    "#### Task 1. Keep only latest data for each player (1 point)\n",
    "\n",
    "* HINT: you can use \n",
    "\n",
    "  `df[<new_column>] = df.groupby(<key_to_aggregate>)[<column>].transform('max')` \n",
    "  \n",
    "  to get the `max` value of `<column>` for each group specified by `<key_to_aggregate>` columns.\n",
    "  \n",
    "  then you'll have to filter rows using `<column>` and `<new_column>` values\n",
    "  \n",
    "\n",
    "* don't forget to remove any additional columns you introduce here"
   ]
  },
  {
   "cell_type": "code",
   "execution_count": 64,
   "id": "cc87b057",
   "metadata": {
    "ExecuteTime": {
     "end_time": "2022-02-05T15:50:29.639771Z",
     "start_time": "2022-02-05T15:50:29.625866Z"
    }
   },
   "outputs": [
    {
     "name": "stdout",
     "output_type": "stream",
     "text": [
      "(11060, 37)\n"
     ]
    }
   ],
   "source": [
    "# your code here\n",
    "\n",
    "df['latest_date'] = df.groupby('id')['date'].transform('max')\n",
    "df.drop(index=df[df['date']!=df['latest_date']].index,inplace=True)\n",
    "df.drop(columns='latest_date',inplace=True)\n",
    "\n",
    "print(df.shape)"
   ]
  },
  {
   "cell_type": "code",
   "execution_count": 65,
   "id": "f9c8ec16",
   "metadata": {
    "ExecuteTime": {
     "end_time": "2022-02-05T15:50:29.733313Z",
     "start_time": "2022-02-05T15:50:29.718598Z"
    }
   },
   "outputs": [],
   "source": [
    "assert df.duplicated(['id']).sum() == 0\n",
    "assert df.shape == (11060, 37)"
   ]
  },
  {
   "cell_type": "code",
   "execution_count": 66,
   "id": "ebc1701c",
   "metadata": {
    "ExecuteTime": {
     "end_time": "2022-02-05T15:50:29.748115Z",
     "start_time": "2022-02-05T15:50:29.735521Z"
    }
   },
   "outputs": [],
   "source": [
    "# no longer need 'id' and 'date' columns\n",
    "df.drop(columns=['id', 'date'], inplace=True)"
   ]
  },
  {
   "cell_type": "code",
   "execution_count": 67,
   "id": "ccdcffa6",
   "metadata": {},
   "outputs": [
    {
     "data": {
      "text/plain": [
       "(11060, 35)"
      ]
     },
     "execution_count": 67,
     "metadata": {},
     "output_type": "execute_result"
    }
   ],
   "source": [
    "df.shape"
   ]
  },
  {
   "cell_type": "markdown",
   "id": "944b90ee",
   "metadata": {},
   "source": [
    "### NaNs"
   ]
  },
  {
   "cell_type": "code",
   "execution_count": 68,
   "id": "6c25a7e1",
   "metadata": {
    "ExecuteTime": {
     "end_time": "2022-02-05T15:50:29.763295Z",
     "start_time": "2022-02-05T15:50:29.750116Z"
    }
   },
   "outputs": [
    {
     "data": {
      "text/plain": [
       "overall_rating          0\n",
       "potential               0\n",
       "crossing                0\n",
       "finishing               0\n",
       "heading_accuracy        0\n",
       "short_passing           0\n",
       "volleys               478\n",
       "dribbling               0\n",
       "curve                 478\n",
       "free_kick_accuracy      0\n",
       "long_passing            0\n",
       "ball_control            0\n",
       "acceleration            0\n",
       "sprint_speed            0\n",
       "agility               478\n",
       "reactions               0\n",
       "balance               478\n",
       "shot_power              0\n",
       "jumping               478\n",
       "stamina                 0\n",
       "strength                0\n",
       "long_shots              0\n",
       "aggression              0\n",
       "interceptions           0\n",
       "positioning             0\n",
       "vision                478\n",
       "penalties               0\n",
       "marking                 0\n",
       "standing_tackle         0\n",
       "sliding_tackle        478\n",
       "gk_diving               0\n",
       "gk_handling             0\n",
       "gk_kicking              0\n",
       "gk_positioning          0\n",
       "gk_reflexes             0\n",
       "dtype: int64"
      ]
     },
     "execution_count": 68,
     "metadata": {},
     "output_type": "execute_result"
    }
   ],
   "source": [
    "df.isna().sum()"
   ]
  },
  {
   "cell_type": "markdown",
   "id": "5d2ba710",
   "metadata": {},
   "source": [
    "* do you see any pattern in how NaNs are distributed?"
   ]
  },
  {
   "cell_type": "code",
   "execution_count": 69,
   "id": "4c056d52",
   "metadata": {
    "ExecuteTime": {
     "end_time": "2022-02-05T15:50:29.778650Z",
     "start_time": "2022-02-05T15:50:29.765289Z"
    }
   },
   "outputs": [
    {
     "data": {
      "text/plain": [
       "0    10582\n",
       "7      478\n",
       "dtype: int64"
      ]
     },
     "execution_count": 69,
     "metadata": {},
     "output_type": "execute_result"
    }
   ],
   "source": [
    "df.isna().sum(axis=1).value_counts()"
   ]
  },
  {
   "cell_type": "code",
   "execution_count": null,
   "id": "1c711b1b",
   "metadata": {},
   "outputs": [],
   "source": []
  },
  {
   "cell_type": "markdown",
   "id": "755f3f83",
   "metadata": {},
   "source": [
    "#### Task 2. Drop rows that contain NaNs (1 point)"
   ]
  },
  {
   "cell_type": "code",
   "execution_count": 71,
   "id": "d39076e9",
   "metadata": {
    "ExecuteTime": {
     "end_time": "2022-02-05T15:50:29.809854Z",
     "start_time": "2022-02-05T15:50:29.796711Z"
    }
   },
   "outputs": [],
   "source": [
    "df.drop(index=df[df['volleys'].isna()].index,inplace=True)"
   ]
  },
  {
   "cell_type": "code",
   "execution_count": 72,
   "id": "19ca7656",
   "metadata": {
    "ExecuteTime": {
     "end_time": "2022-02-05T15:50:29.840082Z",
     "start_time": "2022-02-05T15:50:29.825620Z"
    }
   },
   "outputs": [],
   "source": [
    "assert df.isna().sum().sum() == 0"
   ]
  },
  {
   "cell_type": "code",
   "execution_count": null,
   "id": "0f49facb",
   "metadata": {},
   "outputs": [],
   "source": []
  },
  {
   "cell_type": "markdown",
   "id": "ff5ee4e2",
   "metadata": {},
   "source": [
    "## Task 3. Implement main regression metrics yourself (up to 4 points):\n",
    "* Mean Squared Error (mse) - **(1 point)**\n",
    "* Mean Absolute Error (mae) - **(1 point)**\n",
    "* Mean Absolute Percentage Error (mape) - **(1 point)**\n",
    "* R-squared (r2) - **(1 point)**\n",
    "\n",
    "\n",
    "#### bonus point: MAPE is implemented in such way to take possible 0 in `y_true` into account\n",
    "Hints:\n",
    "\n",
    "* you should divide on \n",
    "  $ \\hat{y}_{true} = (\\hat{y}_{true}^{(0)}, \\hat{y}_{true}^{(1)}, ..., \\hat{y}_{true}^{(n)}) $,\n",
    "  \n",
    "  where $ \\ \\ \\hat{y}_{true}^{(i)} = max(\\ \\ | y_{true}^{(i)} |, \\ \\ \\epsilon), \\ \\ \\epsilon > 0, \\ \\ y_{true}^{(i)} \\in \\mathbb R $\n",
    "  \n",
    "\n",
    "* for compatibility with `sklearn` take \n",
    "\n",
    "  `eps = np.finfo(np.float64).eps`\n",
    "  \n",
    "  \n",
    "#### bonus point: $R^2$ is implemented in such way to take possible 0 in numerator and denominator into account\n",
    "Hints:\n",
    "\n",
    "* recall the formula: $ R^2 = 1 - \\dfrac{SS_{residuals}}{SS_{total}} $\n",
    "\n",
    "\n",
    "* you should return:\n",
    "\n",
    "    $\n",
    "    \\begin{cases}\n",
    "     R^2 & \\text{ if } SS_{residuals} \\ne 0 \\text{ and  } SS_{total} \\ne 0 \n",
    "     \\\\\n",
    "     0 & \\text{ if } SS_{residuals} \\ne 0 \\text{ and  } SS_{total} = 0 \n",
    "     \\\\\n",
    "     1 & \\text { otherwise }\n",
    "    \\end{cases}\n",
    "    $\n",
    "    \n",
    "\n",
    "* for a better understanding of $R^2$ coefficient \n",
    "  try to explain to yourself why we return those values in each of edge cases"
   ]
  },
  {
   "cell_type": "code",
   "execution_count": 115,
   "id": "7b33ae63",
   "metadata": {
    "ExecuteTime": {
     "end_time": "2022-02-05T15:50:29.855630Z",
     "start_time": "2022-02-05T15:50:29.842173Z"
    }
   },
   "outputs": [],
   "source": [
    "# we use '*' in the beggining of each function signature\n",
    "# to forbid positional arguments and enforce the use of kwargs.\n",
    "# this helps to avoid mistake when arguments are passed in wrong order.\n",
    "\n",
    "# write down code instead of raising NotImplementedError in each of functions below.\n",
    "\n",
    "def mse(*, y_true, y_pred):\n",
    "    return ((y_true-y_pred)**2).mean()\n",
    "    raise NotImplementedError()\n",
    "    \n",
    "def mae(*, y_true, y_pred):\n",
    "    return np.fabs(y_true-y_pred).mean()\n",
    "    raise NotImplementedError()\n",
    "    \n",
    "def mape(*, y_true, y_pred):\n",
    "    eps = np.array([np.finfo(np.float64).eps]*len(y_true))\n",
    "    return np.fabs((y_true-y_pred)/np.maximum(np.abs(y_true),eps)).mean()\n",
    "    raise NotImplementedError()\n",
    "    \n",
    "def r2(*, y_true, y_pred):\n",
    "    SSR = ((y_true-y_pred)**2).mean()\n",
    "    SST = ((y_true-y_true.mean())**2).mean()\n",
    "    if SSR == 0: return 1.0\n",
    "    if SST == 0: return 0.0\n",
    "    return 1 - SSR / SST\n",
    "    raise NotImplementedError()"
   ]
  },
  {
   "cell_type": "code",
   "execution_count": null,
   "id": "78ff1516",
   "metadata": {},
   "outputs": [],
   "source": []
  },
  {
   "cell_type": "markdown",
   "id": "86e4f617",
   "metadata": {},
   "source": [
    "### Validate your implementations are correct\n",
    "\n",
    "* we'll use synthetic data for this task\n"
   ]
  },
  {
   "cell_type": "code",
   "execution_count": 116,
   "id": "4bd6309b",
   "metadata": {
    "ExecuteTime": {
     "end_time": "2022-02-05T15:50:29.948530Z",
     "start_time": "2022-02-05T15:50:29.873343Z"
    }
   },
   "outputs": [],
   "source": [
    "from sklearn.metrics import (\n",
    "    mean_squared_error as mse_lib, \n",
    "    mean_absolute_error as mae_lib,\n",
    "    mean_absolute_percentage_error as mape_lib,\n",
    "    r2_score as r2_lib\n",
    ")"
   ]
  },
  {
   "cell_type": "code",
   "execution_count": 117,
   "id": "3470669f",
   "metadata": {
    "ExecuteTime": {
     "end_time": "2022-02-05T15:50:29.964603Z",
     "start_time": "2022-02-05T15:50:29.952530Z"
    }
   },
   "outputs": [],
   "source": [
    "def compare_metrics(fn, fn_lib, y_true, y_pred, n_digits=9):\n",
    "    \"\"\" Print and compare values of custom and library functions using given precision. \"\"\"\n",
    "    m_fn = fn(y_true=y_true, y_pred=y_pred)\n",
    "    m_fn_lib = fn_lib(y_true=y_true, y_pred=y_pred)\n",
    "    print(f'{fn.__name__} custom : {m_fn}')\n",
    "    print(f'{fn.__name__} library: {m_fn_lib}')\n",
    "    print()\n",
    "    assert round(m_fn, n_digits) == round(m_fn_lib, n_digits)"
   ]
  },
  {
   "cell_type": "code",
   "execution_count": null,
   "id": "e80303ab",
   "metadata": {},
   "outputs": [],
   "source": []
  },
  {
   "cell_type": "markdown",
   "id": "4c5432a3",
   "metadata": {},
   "source": [
    "#### a case with a good fit"
   ]
  },
  {
   "cell_type": "code",
   "execution_count": 118,
   "id": "4143760c",
   "metadata": {
    "ExecuteTime": {
     "end_time": "2022-02-05T15:50:30.136424Z",
     "start_time": "2022-02-05T15:50:29.965777Z"
    }
   },
   "outputs": [
    {
     "data": {
      "image/png": "[encoded data removed]",
      "text/plain": [
       "<Figure size 504x432 with 1 Axes>"
      ]
     },
     "metadata": {},
     "output_type": "display_data"
    }
   ],
   "source": [
    "n = 30\n",
    "x = np.arange(n)\n",
    "y_true = 2 * x + 3 + np.random.normal(loc=0, scale=2, size=n)\n",
    "y_pred = 2 * x + 3\n",
    "\n",
    "plt.plot(x, y_true, label='y_true')\n",
    "plt.plot(x, y_pred, label='y_pred')\n",
    "plt.legend();"
   ]
  },
  {
   "cell_type": "code",
   "execution_count": 119,
   "id": "7a6c0bdf",
   "metadata": {
    "ExecuteTime": {
     "end_time": "2022-02-05T15:50:30.152383Z",
     "start_time": "2022-02-05T15:50:30.138337Z"
    }
   },
   "outputs": [
    {
     "name": "stdout",
     "output_type": "stream",
     "text": [
      "mse custom : 1.9816913984628761\n",
      "mse library: 1.9816913984628761\n",
      "\n",
      "mae custom : 1.1837653174728644\n",
      "mae library: 1.1837653174728644\n",
      "\n",
      "mape custom : 0.08444765726777219\n",
      "mape library: 0.08444765726777219\n",
      "\n",
      "r2 custom : 0.9933230620101241\n",
      "r2 library: 0.9933230620101241\n",
      "\n",
      "all tests passed\n"
     ]
    }
   ],
   "source": [
    "compare_metrics(mse, mse_lib, y_true=y_true, y_pred=y_pred)\n",
    "compare_metrics(mae, mae_lib, y_true=y_true, y_pred=y_pred)\n",
    "compare_metrics(mape, mape_lib, y_true=y_true, y_pred=y_pred)\n",
    "compare_metrics(r2, r2_lib, y_true=y_true, y_pred=y_pred)\n",
    "print('all tests passed')"
   ]
  },
  {
   "cell_type": "code",
   "execution_count": null,
   "id": "8c599070",
   "metadata": {},
   "outputs": [],
   "source": []
  },
  {
   "cell_type": "markdown",
   "id": "71df28e2",
   "metadata": {},
   "source": [
    "#### 0s in target. MAPE should explode"
   ]
  },
  {
   "cell_type": "code",
   "execution_count": 120,
   "id": "9ee51a13",
   "metadata": {
    "ExecuteTime": {
     "end_time": "2022-02-05T15:50:30.341643Z",
     "start_time": "2022-02-05T15:50:30.154274Z"
    }
   },
   "outputs": [
    {
     "data": {
      "image/png": "[encoded data removed]",
      "text/plain": [
       "<Figure size 504x432 with 1 Axes>"
      ]
     },
     "metadata": {},
     "output_type": "display_data"
    }
   ],
   "source": [
    "n = 30\n",
    "x = np.arange(n)\n",
    "y_true = 2 * x + 3 + np.random.normal(loc=0, scale=2, size=n)\n",
    "y_true[:7] = 0\n",
    "y_pred = 2 * x + 3\n",
    "\n",
    "plt.plot(x, y_true, label='y_true')\n",
    "plt.plot(x, y_pred, label='y_pred')\n",
    "plt.legend();"
   ]
  },
  {
   "cell_type": "code",
   "execution_count": 121,
   "id": "5cc75a55",
   "metadata": {
    "ExecuteTime": {
     "end_time": "2022-02-05T15:50:30.357566Z",
     "start_time": "2022-02-05T15:50:30.343441Z"
    }
   },
   "outputs": [
    {
     "name": "stdout",
     "output_type": "stream",
     "text": [
      "mse custom : 24.6289413691503\n",
      "mse library: 24.6289413691503\n",
      "\n",
      "mae custom : 3.1060475542511137\n",
      "mae library: 3.1060475542511137\n",
      "\n",
      "mape custom : 9457559217478042.0\n",
      "mape library: 9457559217478042.0\n",
      "\n",
      "r2 custom : 0.9396431985696577\n",
      "r2 library: 0.9396431985696577\n",
      "\n",
      "all tests passed\n"
     ]
    }
   ],
   "source": [
    "compare_metrics(mse, mse_lib, y_true=y_true, y_pred=y_pred)\n",
    "compare_metrics(mae, mae_lib, y_true=y_true, y_pred=y_pred)\n",
    "compare_metrics(mape, mape_lib, y_true=y_true, y_pred=y_pred)\n",
    "compare_metrics(r2, r2_lib, y_true=y_true, y_pred=y_pred)\n",
    "print('all tests passed')"
   ]
  },
  {
   "cell_type": "code",
   "execution_count": null,
   "id": "b0175bee",
   "metadata": {},
   "outputs": [],
   "source": []
  },
  {
   "cell_type": "markdown",
   "id": "0e6b9bf9",
   "metadata": {},
   "source": [
    "#### edge cases for R2"
   ]
  },
  {
   "cell_type": "code",
   "execution_count": 122,
   "id": "71d367c2",
   "metadata": {
    "ExecuteTime": {
     "end_time": "2022-02-05T15:50:30.372953Z",
     "start_time": "2022-02-05T15:50:30.359888Z"
    }
   },
   "outputs": [
    {
     "name": "stdout",
     "output_type": "stream",
     "text": [
      "r2 custom : 0.0\n",
      "r2 library: 0.0\n",
      "\n",
      "success\n"
     ]
    }
   ],
   "source": [
    "# constant target value\n",
    "\n",
    "n = 30\n",
    "x = np.arange(n)\n",
    "y_true = np.repeat(15, n)\n",
    "y_pred = 2 * x + 3\n",
    "\n",
    "compare_metrics(r2, r2_lib, y_true=y_true, y_pred=y_pred)\n",
    "print('success')"
   ]
  },
  {
   "cell_type": "code",
   "execution_count": 123,
   "id": "de67f715",
   "metadata": {
    "ExecuteTime": {
     "end_time": "2022-02-05T15:50:30.388956Z",
     "start_time": "2022-02-05T15:50:30.374956Z"
    }
   },
   "outputs": [
    {
     "name": "stdout",
     "output_type": "stream",
     "text": [
      "r2 custom : 1.0\n",
      "r2 library: 1.0\n",
      "\n",
      "success\n"
     ]
    }
   ],
   "source": [
    "# perfect fit\n",
    "\n",
    "n = 30\n",
    "x = np.arange(n)\n",
    "y_true = 2 * x + 3 + np.random.normal(loc=0, scale=2, size=n)\n",
    "y_pred = y_true\n",
    "\n",
    "compare_metrics(r2, r2_lib, y_true=y_true, y_pred=y_pred)\n",
    "print('success')"
   ]
  },
  {
   "cell_type": "code",
   "execution_count": null,
   "id": "344214b1",
   "metadata": {},
   "outputs": [],
   "source": []
  },
  {
   "cell_type": "code",
   "execution_count": null,
   "id": "b8ac78c4",
   "metadata": {},
   "outputs": [],
   "source": []
  },
  {
   "cell_type": "markdown",
   "id": "b3a027b5",
   "metadata": {},
   "source": [
    "### Define helper functions"
   ]
  },
  {
   "cell_type": "code",
   "execution_count": 124,
   "id": "7950b67c",
   "metadata": {
    "ExecuteTime": {
     "end_time": "2022-02-05T15:50:30.404958Z",
     "start_time": "2022-02-05T15:50:30.389956Z"
    }
   },
   "outputs": [],
   "source": [
    "def get_metrics(*, y_true, y_pred) -> pd.Series:\n",
    "    \"\"\" A helper function to return all metrics for given labels and predictions. \"\"\"\n",
    "    \n",
    "    # if you didn't implement some metrics, comment them out for this function to work.\n",
    "    return pd.Series({\n",
    "        'mse': mse(y_true=y_true, y_pred=y_pred),\n",
    "        'mae': mae(y_true=y_true, y_pred=y_pred),\n",
    "        'mape': mape(y_true=y_true, y_pred=y_pred),\n",
    "        'r2': r2(y_true=y_true, y_pred=y_pred),\n",
    "    })"
   ]
  },
  {
   "cell_type": "code",
   "execution_count": 125,
   "id": "15991501",
   "metadata": {
    "ExecuteTime": {
     "end_time": "2022-02-05T15:50:30.420955Z",
     "start_time": "2022-02-05T15:50:30.406959Z"
    }
   },
   "outputs": [],
   "source": [
    "def fit_and_evaluate(model, x_train, y_train, x_test, y_test) -> pd.DataFrame:\n",
    "    \"\"\" \n",
    "    A helper function to: \n",
    "    * fit a passed model\n",
    "    * and return metrics on train and test sets.\n",
    "    \"\"\"\n",
    "    # fit the model\n",
    "    model.fit(x_train, y_train)\n",
    "    \n",
    "    # return metrics as pd.DataFrame\n",
    "    m = pd.DataFrame([\n",
    "        get_metrics(y_true=y_train, y_pred=model.predict(x_train)),  # metrics for train set\n",
    "        get_metrics(y_true=y_test, y_pred=model.predict(x_test))     # metrics for test set\n",
    "    ], index=['train', 'test']\n",
    "    )\n",
    "    \n",
    "    return m"
   ]
  },
  {
   "cell_type": "code",
   "execution_count": null,
   "id": "ac20b65c",
   "metadata": {},
   "outputs": [],
   "source": []
  },
  {
   "cell_type": "code",
   "execution_count": null,
   "id": "de31e0d2",
   "metadata": {},
   "outputs": [],
   "source": []
  },
  {
   "cell_type": "markdown",
   "id": "e1a9496f",
   "metadata": {},
   "source": [
    "## train/test split\n",
    "\n",
    "* Split the data we have into Train and Test splits with 80%/20% proportion"
   ]
  },
  {
   "cell_type": "code",
   "execution_count": 126,
   "id": "0cbdf81b",
   "metadata": {
    "ExecuteTime": {
     "end_time": "2022-02-05T15:50:30.436855Z",
     "start_time": "2022-02-05T15:50:30.422956Z"
    }
   },
   "outputs": [
    {
     "name": "stdout",
     "output_type": "stream",
     "text": [
      "(10582, 35)\n",
      "(8465, 35) (2117, 35)\n"
     ]
    }
   ],
   "source": [
    "print(df.shape)\n",
    "ix_split = int(0.8 * df.shape[0])\n",
    "DF_TRAIN = df.iloc[:ix_split].copy()\n",
    "DF_TEST = df.iloc[ix_split:].copy()\n",
    "print(DF_TRAIN.shape, DF_TEST.shape)"
   ]
  },
  {
   "cell_type": "code",
   "execution_count": 127,
   "id": "4c36f2fe",
   "metadata": {
    "ExecuteTime": {
     "end_time": "2022-02-05T15:50:30.452547Z",
     "start_time": "2022-02-05T15:50:30.438523Z"
    }
   },
   "outputs": [],
   "source": [
    "def get_train_test_data(features: List[str], target: str) -> tuple:\n",
    "    \"\"\"\n",
    "    Return x_train, y_train, x_test, y_test using \n",
    "    * global train/test split \n",
    "    * features and target provided.\n",
    "    \"\"\"\n",
    "    # in general, it's a bad practice to use global variables. \n",
    "    # however, we use it here with caution for simplicity.\n",
    "    return (\n",
    "        DF_TRAIN[features].copy(), DF_TRAIN[target].copy(), \n",
    "        DF_TEST[features].copy(), DF_TEST[target].copy()\n",
    "    )"
   ]
  },
  {
   "cell_type": "code",
   "execution_count": null,
   "id": "b61b9afd",
   "metadata": {},
   "outputs": [],
   "source": []
  },
  {
   "cell_type": "code",
   "execution_count": null,
   "id": "12f81654",
   "metadata": {},
   "outputs": [],
   "source": []
  },
  {
   "cell_type": "markdown",
   "id": "7683d845",
   "metadata": {},
   "source": [
    "## Linear regression with 1 variable\n",
    "\n",
    "* Let's start with Linear Regression that predicts target variable \n",
    "  using only 1 predictor (independent variable)  \n",
    "\n",
    "* We will try to predict `dribbling` variable using `short_passing` as a predictor"
   ]
  },
  {
   "cell_type": "code",
   "execution_count": 128,
   "id": "5a994986",
   "metadata": {
    "ExecuteTime": {
     "end_time": "2022-02-05T15:50:30.468403Z",
     "start_time": "2022-02-05T15:50:30.454412Z"
    }
   },
   "outputs": [],
   "source": [
    "target = 'dribbling'\n",
    "features = ['short_passing']\n",
    "x_train, y_train, x_test, y_test = get_train_test_data(features, target)"
   ]
  },
  {
   "cell_type": "code",
   "execution_count": null,
   "id": "c41d6aa2",
   "metadata": {},
   "outputs": [],
   "source": []
  },
  {
   "cell_type": "markdown",
   "id": "48e18ded",
   "metadata": {},
   "source": [
    "### Let's visualize our data first"
   ]
  },
  {
   "cell_type": "code",
   "execution_count": 129,
   "id": "0b93c143",
   "metadata": {
    "ExecuteTime": {
     "end_time": "2022-02-05T15:50:30.625760Z",
     "start_time": "2022-02-05T15:50:30.472404Z"
    }
   },
   "outputs": [
    {
     "data": {
      "image/png": "[encoded data removed]",
      "text/plain": [
       "<Figure size 504x432 with 1 Axes>"
      ]
     },
     "metadata": {},
     "output_type": "display_data"
    }
   ],
   "source": [
    "plt.scatter(x=x_train, y=y_train, alpha=0.3, s=10);\n",
    "plt.xlabel('short_passing');\n",
    "plt.ylabel('dribbling');"
   ]
  },
  {
   "cell_type": "markdown",
   "id": "c8370e35",
   "metadata": {},
   "source": [
    "* do you notice anything interesting on this plot?\n",
    "* if so, how can we use it later to generate more accurate predictions?"
   ]
  },
  {
   "cell_type": "code",
   "execution_count": null,
   "id": "0bcd9167",
   "metadata": {},
   "outputs": [],
   "source": []
  },
  {
   "cell_type": "markdown",
   "id": "3a54c9f1",
   "metadata": {},
   "source": [
    "### Task 4. Compute Pearson correlation coefficient between feature and target (1 pont)\n",
    "Hint: you can use either `pd.Series.corr` method or `np.corrcoef` function"
   ]
  },
  {
   "cell_type": "code",
   "execution_count": 130,
   "id": "2c8dbbf9",
   "metadata": {
    "ExecuteTime": {
     "end_time": "2022-02-05T15:50:30.641483Z",
     "start_time": "2022-02-05T15:50:30.627267Z"
    }
   },
   "outputs": [
    {
     "data": {
      "text/html": [
       "<div>\n",
       "<style scoped>\n",
       "    .dataframe tbody tr th:only-of-type {\n",
       "        vertical-align: middle;\n",
       "    }\n",
       "\n",
       "    .dataframe tbody tr th {\n",
       "        vertical-align: top;\n",
       "    }\n",
       "\n",
       "    .dataframe thead th {\n",
       "        text-align: right;\n",
       "    }\n",
       "</style>\n",
       "<table border=\"1\" class=\"dataframe\">\n",
       "  <thead>\n",
       "    <tr style=\"text-align: right;\">\n",
       "      <th></th>\n",
       "      <th>overall_rating</th>\n",
       "      <th>potential</th>\n",
       "      <th>crossing</th>\n",
       "      <th>finishing</th>\n",
       "      <th>heading_accuracy</th>\n",
       "      <th>short_passing</th>\n",
       "      <th>volleys</th>\n",
       "      <th>dribbling</th>\n",
       "      <th>curve</th>\n",
       "      <th>free_kick_accuracy</th>\n",
       "      <th>long_passing</th>\n",
       "      <th>ball_control</th>\n",
       "      <th>acceleration</th>\n",
       "      <th>sprint_speed</th>\n",
       "      <th>agility</th>\n",
       "      <th>reactions</th>\n",
       "      <th>balance</th>\n",
       "      <th>shot_power</th>\n",
       "      <th>jumping</th>\n",
       "      <th>stamina</th>\n",
       "      <th>strength</th>\n",
       "      <th>long_shots</th>\n",
       "      <th>aggression</th>\n",
       "      <th>interceptions</th>\n",
       "      <th>positioning</th>\n",
       "      <th>vision</th>\n",
       "      <th>penalties</th>\n",
       "      <th>marking</th>\n",
       "      <th>standing_tackle</th>\n",
       "      <th>sliding_tackle</th>\n",
       "      <th>gk_diving</th>\n",
       "      <th>gk_handling</th>\n",
       "      <th>gk_kicking</th>\n",
       "      <th>gk_positioning</th>\n",
       "      <th>gk_reflexes</th>\n",
       "    </tr>\n",
       "  </thead>\n",
       "  <tbody>\n",
       "    <tr>\n",
       "      <th>overall_rating</th>\n",
       "      <td>1.000000</td>\n",
       "      <td>0.815249</td>\n",
       "      <td>0.293684</td>\n",
       "      <td>0.266877</td>\n",
       "      <td>0.236246</td>\n",
       "      <td>0.412008</td>\n",
       "      <td>0.304024</td>\n",
       "      <td>0.296112</td>\n",
       "      <td>0.326502</td>\n",
       "      <td>0.283547</td>\n",
       "      <td>0.392166</td>\n",
       "      <td>0.380553</td>\n",
       "      <td>0.174668</td>\n",
       "      <td>0.188511</td>\n",
       "      <td>0.215998</td>\n",
       "      <td>0.787206</td>\n",
       "      <td>0.100119</td>\n",
       "      <td>0.347885</td>\n",
       "      <td>0.233605</td>\n",
       "      <td>0.241977</td>\n",
       "      <td>0.215589</td>\n",
       "      <td>0.326083</td>\n",
       "      <td>0.269096</td>\n",
       "      <td>0.203424</td>\n",
       "      <td>0.285609</td>\n",
       "      <td>0.409411</td>\n",
       "      <td>0.278143</td>\n",
       "      <td>0.122011</td>\n",
       "      <td>0.152052</td>\n",
       "      <td>0.134891</td>\n",
       "      <td>0.029723</td>\n",
       "      <td>0.032112</td>\n",
       "      <td>0.028797</td>\n",
       "      <td>0.032090</td>\n",
       "      <td>0.032358</td>\n",
       "    </tr>\n",
       "    <tr>\n",
       "      <th>potential</th>\n",
       "      <td>0.815249</td>\n",
       "      <td>1.000000</td>\n",
       "      <td>0.242029</td>\n",
       "      <td>0.244247</td>\n",
       "      <td>0.165555</td>\n",
       "      <td>0.367661</td>\n",
       "      <td>0.248509</td>\n",
       "      <td>0.317433</td>\n",
       "      <td>0.268560</td>\n",
       "      <td>0.204085</td>\n",
       "      <td>0.320514</td>\n",
       "      <td>0.365276</td>\n",
       "      <td>0.299818</td>\n",
       "      <td>0.309311</td>\n",
       "      <td>0.267011</td>\n",
       "      <td>0.602781</td>\n",
       "      <td>0.161929</td>\n",
       "      <td>0.274228</td>\n",
       "      <td>0.172163</td>\n",
       "      <td>0.233792</td>\n",
       "      <td>0.065608</td>\n",
       "      <td>0.265409</td>\n",
       "      <td>0.146234</td>\n",
       "      <td>0.121259</td>\n",
       "      <td>0.256299</td>\n",
       "      <td>0.349201</td>\n",
       "      <td>0.215750</td>\n",
       "      <td>0.068372</td>\n",
       "      <td>0.097823</td>\n",
       "      <td>0.089100</td>\n",
       "      <td>-0.008990</td>\n",
       "      <td>-0.008277</td>\n",
       "      <td>-0.011134</td>\n",
       "      <td>-0.011421</td>\n",
       "      <td>-0.007122</td>\n",
       "    </tr>\n",
       "    <tr>\n",
       "      <th>crossing</th>\n",
       "      <td>0.293684</td>\n",
       "      <td>0.242029</td>\n",
       "      <td>1.000000</td>\n",
       "      <td>0.602687</td>\n",
       "      <td>0.402634</td>\n",
       "      <td>0.803246</td>\n",
       "      <td>0.654547</td>\n",
       "      <td>0.829761</td>\n",
       "      <td>0.817277</td>\n",
       "      <td>0.732209</td>\n",
       "      <td>0.744029</td>\n",
       "      <td>0.827153</td>\n",
       "      <td>0.576943</td>\n",
       "      <td>0.556556</td>\n",
       "      <td>0.618485</td>\n",
       "      <td>0.311563</td>\n",
       "      <td>0.577861</td>\n",
       "      <td>0.683626</td>\n",
       "      <td>0.048116</td>\n",
       "      <td>0.584142</td>\n",
       "      <td>-0.136503</td>\n",
       "      <td>0.729019</td>\n",
       "      <td>0.377988</td>\n",
       "      <td>0.329211</td>\n",
       "      <td>0.727912</td>\n",
       "      <td>0.691808</td>\n",
       "      <td>0.620951</td>\n",
       "      <td>0.274110</td>\n",
       "      <td>0.324442</td>\n",
       "      <td>0.312264</td>\n",
       "      <td>-0.654603</td>\n",
       "      <td>-0.651642</td>\n",
       "      <td>-0.647341</td>\n",
       "      <td>-0.654693</td>\n",
       "      <td>-0.656178</td>\n",
       "    </tr>\n",
       "    <tr>\n",
       "      <th>finishing</th>\n",
       "      <td>0.266877</td>\n",
       "      <td>0.244247</td>\n",
       "      <td>0.602687</td>\n",
       "      <td>1.000000</td>\n",
       "      <td>0.394889</td>\n",
       "      <td>0.609391</td>\n",
       "      <td>0.870419</td>\n",
       "      <td>0.789398</td>\n",
       "      <td>0.711735</td>\n",
       "      <td>0.657718</td>\n",
       "      <td>0.421171</td>\n",
       "      <td>0.738709</td>\n",
       "      <td>0.501686</td>\n",
       "      <td>0.481219</td>\n",
       "      <td>0.553901</td>\n",
       "      <td>0.291960</td>\n",
       "      <td>0.423846</td>\n",
       "      <td>0.749742</td>\n",
       "      <td>0.014281</td>\n",
       "      <td>0.376077</td>\n",
       "      <td>-0.085452</td>\n",
       "      <td>0.826329</td>\n",
       "      <td>0.106609</td>\n",
       "      <td>-0.175514</td>\n",
       "      <td>0.870469</td>\n",
       "      <td>0.677950</td>\n",
       "      <td>0.795875</td>\n",
       "      <td>-0.248159</td>\n",
       "      <td>-0.186195</td>\n",
       "      <td>-0.224519</td>\n",
       "      <td>-0.519915</td>\n",
       "      <td>-0.513952</td>\n",
       "      <td>-0.516438</td>\n",
       "      <td>-0.519262</td>\n",
       "      <td>-0.520261</td>\n",
       "    </tr>\n",
       "    <tr>\n",
       "      <th>heading_accuracy</th>\n",
       "      <td>0.236246</td>\n",
       "      <td>0.165555</td>\n",
       "      <td>0.402634</td>\n",
       "      <td>0.394889</td>\n",
       "      <td>1.000000</td>\n",
       "      <td>0.579282</td>\n",
       "      <td>0.406924</td>\n",
       "      <td>0.448041</td>\n",
       "      <td>0.356718</td>\n",
       "      <td>0.338306</td>\n",
       "      <td>0.456997</td>\n",
       "      <td>0.589430</td>\n",
       "      <td>0.156921</td>\n",
       "      <td>0.225398</td>\n",
       "      <td>0.089995</td>\n",
       "      <td>0.203711</td>\n",
       "      <td>0.057231</td>\n",
       "      <td>0.581341</td>\n",
       "      <td>0.247838</td>\n",
       "      <td>0.492828</td>\n",
       "      <td>0.458682</td>\n",
       "      <td>0.428385</td>\n",
       "      <td>0.638928</td>\n",
       "      <td>0.475335</td>\n",
       "      <td>0.422624</td>\n",
       "      <td>0.287898</td>\n",
       "      <td>0.477403</td>\n",
       "      <td>0.481460</td>\n",
       "      <td>0.505468</td>\n",
       "      <td>0.466825</td>\n",
       "      <td>-0.734214</td>\n",
       "      <td>-0.732242</td>\n",
       "      <td>-0.726710</td>\n",
       "      <td>-0.730981</td>\n",
       "      <td>-0.732507</td>\n",
       "    </tr>\n",
       "    <tr>\n",
       "      <th>short_passing</th>\n",
       "      <td>0.412008</td>\n",
       "      <td>0.367661</td>\n",
       "      <td>0.803246</td>\n",
       "      <td>0.609391</td>\n",
       "      <td>0.579282</td>\n",
       "      <td>1.000000</td>\n",
       "      <td>0.652236</td>\n",
       "      <td>0.812938</td>\n",
       "      <td>0.755942</td>\n",
       "      <td>0.715015</td>\n",
       "      <td>0.880310</td>\n",
       "      <td>0.905642</td>\n",
       "      <td>0.465631</td>\n",
       "      <td>0.452852</td>\n",
       "      <td>0.521943</td>\n",
       "      <td>0.394963</td>\n",
       "      <td>0.490882</td>\n",
       "      <td>0.746555</td>\n",
       "      <td>0.075297</td>\n",
       "      <td>0.618040</td>\n",
       "      <td>0.032031</td>\n",
       "      <td>0.745760</td>\n",
       "      <td>0.512571</td>\n",
       "      <td>0.458404</td>\n",
       "      <td>0.707954</td>\n",
       "      <td>0.755552</td>\n",
       "      <td>0.660161</td>\n",
       "      <td>0.385064</td>\n",
       "      <td>0.451078</td>\n",
       "      <td>0.411326</td>\n",
       "      <td>-0.736448</td>\n",
       "      <td>-0.732403</td>\n",
       "      <td>-0.728134</td>\n",
       "      <td>-0.734203</td>\n",
       "      <td>-0.733630</td>\n",
       "    </tr>\n",
       "    <tr>\n",
       "      <th>volleys</th>\n",
       "      <td>0.304024</td>\n",
       "      <td>0.248509</td>\n",
       "      <td>0.654547</td>\n",
       "      <td>0.870419</td>\n",
       "      <td>0.406924</td>\n",
       "      <td>0.652236</td>\n",
       "      <td>1.000000</td>\n",
       "      <td>0.784317</td>\n",
       "      <td>0.760770</td>\n",
       "      <td>0.708657</td>\n",
       "      <td>0.495958</td>\n",
       "      <td>0.755249</td>\n",
       "      <td>0.470034</td>\n",
       "      <td>0.448022</td>\n",
       "      <td>0.547171</td>\n",
       "      <td>0.335563</td>\n",
       "      <td>0.442740</td>\n",
       "      <td>0.768610</td>\n",
       "      <td>0.021653</td>\n",
       "      <td>0.388391</td>\n",
       "      <td>-0.072783</td>\n",
       "      <td>0.836513</td>\n",
       "      <td>0.178628</td>\n",
       "      <td>-0.066498</td>\n",
       "      <td>0.835576</td>\n",
       "      <td>0.703066</td>\n",
       "      <td>0.786152</td>\n",
       "      <td>-0.148167</td>\n",
       "      <td>-0.082637</td>\n",
       "      <td>-0.117229</td>\n",
       "      <td>-0.531869</td>\n",
       "      <td>-0.527925</td>\n",
       "      <td>-0.528407</td>\n",
       "      <td>-0.532203</td>\n",
       "      <td>-0.532171</td>\n",
       "    </tr>\n",
       "    <tr>\n",
       "      <th>dribbling</th>\n",
       "      <td>0.296112</td>\n",
       "      <td>0.317433</td>\n",
       "      <td>0.829761</td>\n",
       "      <td>0.789398</td>\n",
       "      <td>0.448041</td>\n",
       "      <td>0.812938</td>\n",
       "      <td>0.784317</td>\n",
       "      <td>1.000000</td>\n",
       "      <td>0.822143</td>\n",
       "      <td>0.723443</td>\n",
       "      <td>0.666167</td>\n",
       "      <td>0.920367</td>\n",
       "      <td>0.685186</td>\n",
       "      <td>0.655831</td>\n",
       "      <td>0.713123</td>\n",
       "      <td>0.301088</td>\n",
       "      <td>0.606836</td>\n",
       "      <td>0.763753</td>\n",
       "      <td>0.053865</td>\n",
       "      <td>0.584423</td>\n",
       "      <td>-0.155298</td>\n",
       "      <td>0.815342</td>\n",
       "      <td>0.288671</td>\n",
       "      <td>0.140436</td>\n",
       "      <td>0.857636</td>\n",
       "      <td>0.735684</td>\n",
       "      <td>0.723614</td>\n",
       "      <td>0.079198</td>\n",
       "      <td>0.142647</td>\n",
       "      <td>0.117572</td>\n",
       "      <td>-0.707677</td>\n",
       "      <td>-0.702359</td>\n",
       "      <td>-0.700129</td>\n",
       "      <td>-0.705065</td>\n",
       "      <td>-0.705573</td>\n",
       "    </tr>\n",
       "    <tr>\n",
       "      <th>curve</th>\n",
       "      <td>0.326502</td>\n",
       "      <td>0.268560</td>\n",
       "      <td>0.817277</td>\n",
       "      <td>0.711735</td>\n",
       "      <td>0.356718</td>\n",
       "      <td>0.755942</td>\n",
       "      <td>0.760770</td>\n",
       "      <td>0.822143</td>\n",
       "      <td>1.000000</td>\n",
       "      <td>0.827755</td>\n",
       "      <td>0.675309</td>\n",
       "      <td>0.812113</td>\n",
       "      <td>0.519488</td>\n",
       "      <td>0.483456</td>\n",
       "      <td>0.611963</td>\n",
       "      <td>0.343713</td>\n",
       "      <td>0.541798</td>\n",
       "      <td>0.728929</td>\n",
       "      <td>0.005761</td>\n",
       "      <td>0.481505</td>\n",
       "      <td>-0.153595</td>\n",
       "      <td>0.806222</td>\n",
       "      <td>0.266032</td>\n",
       "      <td>0.161390</td>\n",
       "      <td>0.773694</td>\n",
       "      <td>0.736275</td>\n",
       "      <td>0.717838</td>\n",
       "      <td>0.082268</td>\n",
       "      <td>0.144385</td>\n",
       "      <td>0.117374</td>\n",
       "      <td>-0.584544</td>\n",
       "      <td>-0.580548</td>\n",
       "      <td>-0.579310</td>\n",
       "      <td>-0.586157</td>\n",
       "      <td>-0.586084</td>\n",
       "    </tr>\n",
       "    <tr>\n",
       "      <th>free_kick_accuracy</th>\n",
       "      <td>0.283547</td>\n",
       "      <td>0.204085</td>\n",
       "      <td>0.732209</td>\n",
       "      <td>0.657718</td>\n",
       "      <td>0.338306</td>\n",
       "      <td>0.715015</td>\n",
       "      <td>0.708657</td>\n",
       "      <td>0.723443</td>\n",
       "      <td>0.827755</td>\n",
       "      <td>1.000000</td>\n",
       "      <td>0.670172</td>\n",
       "      <td>0.736099</td>\n",
       "      <td>0.391320</td>\n",
       "      <td>0.354244</td>\n",
       "      <td>0.503993</td>\n",
       "      <td>0.310799</td>\n",
       "      <td>0.464484</td>\n",
       "      <td>0.718736</td>\n",
       "      <td>-0.029241</td>\n",
       "      <td>0.423234</td>\n",
       "      <td>-0.102380</td>\n",
       "      <td>0.797479</td>\n",
       "      <td>0.283667</td>\n",
       "      <td>0.190194</td>\n",
       "      <td>0.690948</td>\n",
       "      <td>0.714660</td>\n",
       "      <td>0.717091</td>\n",
       "      <td>0.107587</td>\n",
       "      <td>0.170238</td>\n",
       "      <td>0.134160</td>\n",
       "      <td>-0.544635</td>\n",
       "      <td>-0.541333</td>\n",
       "      <td>-0.538959</td>\n",
       "      <td>-0.544079</td>\n",
       "      <td>-0.544443</td>\n",
       "    </tr>\n",
       "    <tr>\n",
       "      <th>long_passing</th>\n",
       "      <td>0.392166</td>\n",
       "      <td>0.320514</td>\n",
       "      <td>0.744029</td>\n",
       "      <td>0.421171</td>\n",
       "      <td>0.456997</td>\n",
       "      <td>0.880310</td>\n",
       "      <td>0.495958</td>\n",
       "      <td>0.666167</td>\n",
       "      <td>0.675309</td>\n",
       "      <td>0.670172</td>\n",
       "      <td>1.000000</td>\n",
       "      <td>0.765862</td>\n",
       "      <td>0.346493</td>\n",
       "      <td>0.328437</td>\n",
       "      <td>0.426705</td>\n",
       "      <td>0.367385</td>\n",
       "      <td>0.432159</td>\n",
       "      <td>0.627006</td>\n",
       "      <td>0.059079</td>\n",
       "      <td>0.555292</td>\n",
       "      <td>0.023540</td>\n",
       "      <td>0.642487</td>\n",
       "      <td>0.517965</td>\n",
       "      <td>0.568255</td>\n",
       "      <td>0.531786</td>\n",
       "      <td>0.687234</td>\n",
       "      <td>0.513584</td>\n",
       "      <td>0.492463</td>\n",
       "      <td>0.548308</td>\n",
       "      <td>0.518224</td>\n",
       "      <td>-0.609889</td>\n",
       "      <td>-0.605864</td>\n",
       "      <td>-0.602549</td>\n",
       "      <td>-0.607520</td>\n",
       "      <td>-0.607834</td>\n",
       "    </tr>\n",
       "    <tr>\n",
       "      <th>ball_control</th>\n",
       "      <td>0.380553</td>\n",
       "      <td>0.365276</td>\n",
       "      <td>0.827153</td>\n",
       "      <td>0.738709</td>\n",
       "      <td>0.589430</td>\n",
       "      <td>0.905642</td>\n",
       "      <td>0.755249</td>\n",
       "      <td>0.920367</td>\n",
       "      <td>0.812113</td>\n",
       "      <td>0.736099</td>\n",
       "      <td>0.765862</td>\n",
       "      <td>1.000000</td>\n",
       "      <td>0.588591</td>\n",
       "      <td>0.573165</td>\n",
       "      <td>0.625814</td>\n",
       "      <td>0.364547</td>\n",
       "      <td>0.552968</td>\n",
       "      <td>0.801709</td>\n",
       "      <td>0.084879</td>\n",
       "      <td>0.626388</td>\n",
       "      <td>-0.027528</td>\n",
       "      <td>0.808432</td>\n",
       "      <td>0.437123</td>\n",
       "      <td>0.304333</td>\n",
       "      <td>0.816729</td>\n",
       "      <td>0.757680</td>\n",
       "      <td>0.737187</td>\n",
       "      <td>0.239548</td>\n",
       "      <td>0.304515</td>\n",
       "      <td>0.268021</td>\n",
       "      <td>-0.784109</td>\n",
       "      <td>-0.779062</td>\n",
       "      <td>-0.775141</td>\n",
       "      <td>-0.780926</td>\n",
       "      <td>-0.781889</td>\n",
       "    </tr>\n",
       "    <tr>\n",
       "      <th>acceleration</th>\n",
       "      <td>0.174668</td>\n",
       "      <td>0.299818</td>\n",
       "      <td>0.576943</td>\n",
       "      <td>0.501686</td>\n",
       "      <td>0.156921</td>\n",
       "      <td>0.465631</td>\n",
       "      <td>0.470034</td>\n",
       "      <td>0.685186</td>\n",
       "      <td>0.519488</td>\n",
       "      <td>0.391320</td>\n",
       "      <td>0.346493</td>\n",
       "      <td>0.588591</td>\n",
       "      <td>1.000000</td>\n",
       "      <td>0.912161</td>\n",
       "      <td>0.797346</td>\n",
       "      <td>0.171529</td>\n",
       "      <td>0.653631</td>\n",
       "      <td>0.434161</td>\n",
       "      <td>0.204943</td>\n",
       "      <td>0.552374</td>\n",
       "      <td>-0.304600</td>\n",
       "      <td>0.478829</td>\n",
       "      <td>0.093487</td>\n",
       "      <td>-0.005624</td>\n",
       "      <td>0.570575</td>\n",
       "      <td>0.417218</td>\n",
       "      <td>0.393437</td>\n",
       "      <td>-0.028957</td>\n",
       "      <td>-0.000082</td>\n",
       "      <td>0.012371</td>\n",
       "      <td>-0.453278</td>\n",
       "      <td>-0.449762</td>\n",
       "      <td>-0.445844</td>\n",
       "      <td>-0.454589</td>\n",
       "      <td>-0.452612</td>\n",
       "    </tr>\n",
       "    <tr>\n",
       "      <th>sprint_speed</th>\n",
       "      <td>0.188511</td>\n",
       "      <td>0.309311</td>\n",
       "      <td>0.556556</td>\n",
       "      <td>0.481219</td>\n",
       "      <td>0.225398</td>\n",
       "      <td>0.452852</td>\n",
       "      <td>0.448022</td>\n",
       "      <td>0.655831</td>\n",
       "      <td>0.483456</td>\n",
       "      <td>0.354244</td>\n",
       "      <td>0.328437</td>\n",
       "      <td>0.573165</td>\n",
       "      <td>0.912161</td>\n",
       "      <td>1.000000</td>\n",
       "      <td>0.730343</td>\n",
       "      <td>0.166133</td>\n",
       "      <td>0.571543</td>\n",
       "      <td>0.443922</td>\n",
       "      <td>0.220834</td>\n",
       "      <td>0.572198</td>\n",
       "      <td>-0.204001</td>\n",
       "      <td>0.452157</td>\n",
       "      <td>0.139718</td>\n",
       "      <td>0.023251</td>\n",
       "      <td>0.548166</td>\n",
       "      <td>0.373992</td>\n",
       "      <td>0.377718</td>\n",
       "      <td>0.009755</td>\n",
       "      <td>0.038982</td>\n",
       "      <td>0.049277</td>\n",
       "      <td>-0.471004</td>\n",
       "      <td>-0.465618</td>\n",
       "      <td>-0.463962</td>\n",
       "      <td>-0.472691</td>\n",
       "      <td>-0.471078</td>\n",
       "    </tr>\n",
       "    <tr>\n",
       "      <th>agility</th>\n",
       "      <td>0.215998</td>\n",
       "      <td>0.267011</td>\n",
       "      <td>0.618485</td>\n",
       "      <td>0.553901</td>\n",
       "      <td>0.089995</td>\n",
       "      <td>0.521943</td>\n",
       "      <td>0.547171</td>\n",
       "      <td>0.713123</td>\n",
       "      <td>0.611963</td>\n",
       "      <td>0.503993</td>\n",
       "      <td>0.426705</td>\n",
       "      <td>0.625814</td>\n",
       "      <td>0.797346</td>\n",
       "      <td>0.730343</td>\n",
       "      <td>1.000000</td>\n",
       "      <td>0.252051</td>\n",
       "      <td>0.742262</td>\n",
       "      <td>0.463734</td>\n",
       "      <td>0.185940</td>\n",
       "      <td>0.482563</td>\n",
       "      <td>-0.408930</td>\n",
       "      <td>0.555267</td>\n",
       "      <td>0.055090</td>\n",
       "      <td>-0.029564</td>\n",
       "      <td>0.620826</td>\n",
       "      <td>0.550416</td>\n",
       "      <td>0.459486</td>\n",
       "      <td>-0.085376</td>\n",
       "      <td>-0.048907</td>\n",
       "      <td>-0.043100</td>\n",
       "      <td>-0.402478</td>\n",
       "      <td>-0.398713</td>\n",
       "      <td>-0.397502</td>\n",
       "      <td>-0.402400</td>\n",
       "      <td>-0.402946</td>\n",
       "    </tr>\n",
       "    <tr>\n",
       "      <th>reactions</th>\n",
       "      <td>0.787206</td>\n",
       "      <td>0.602781</td>\n",
       "      <td>0.311563</td>\n",
       "      <td>0.291960</td>\n",
       "      <td>0.203711</td>\n",
       "      <td>0.394963</td>\n",
       "      <td>0.335563</td>\n",
       "      <td>0.301088</td>\n",
       "      <td>0.343713</td>\n",
       "      <td>0.310799</td>\n",
       "      <td>0.367385</td>\n",
       "      <td>0.364547</td>\n",
       "      <td>0.171529</td>\n",
       "      <td>0.166133</td>\n",
       "      <td>0.252051</td>\n",
       "      <td>1.000000</td>\n",
       "      <td>0.151187</td>\n",
       "      <td>0.339396</td>\n",
       "      <td>0.217071</td>\n",
       "      <td>0.245620</td>\n",
       "      <td>0.135564</td>\n",
       "      <td>0.347394</td>\n",
       "      <td>0.261671</td>\n",
       "      <td>0.183333</td>\n",
       "      <td>0.338409</td>\n",
       "      <td>0.433430</td>\n",
       "      <td>0.298518</td>\n",
       "      <td>0.086359</td>\n",
       "      <td>0.121102</td>\n",
       "      <td>0.105893</td>\n",
       "      <td>-0.007404</td>\n",
       "      <td>-0.005306</td>\n",
       "      <td>-0.007406</td>\n",
       "      <td>-0.005219</td>\n",
       "      <td>-0.004770</td>\n",
       "    </tr>\n",
       "    <tr>\n",
       "      <th>balance</th>\n",
       "      <td>0.100119</td>\n",
       "      <td>0.161929</td>\n",
       "      <td>0.577861</td>\n",
       "      <td>0.423846</td>\n",
       "      <td>0.057231</td>\n",
       "      <td>0.490882</td>\n",
       "      <td>0.442740</td>\n",
       "      <td>0.606836</td>\n",
       "      <td>0.541798</td>\n",
       "      <td>0.464484</td>\n",
       "      <td>0.432159</td>\n",
       "      <td>0.552968</td>\n",
       "      <td>0.653631</td>\n",
       "      <td>0.571543</td>\n",
       "      <td>0.742262</td>\n",
       "      <td>0.151187</td>\n",
       "      <td>1.000000</td>\n",
       "      <td>0.383014</td>\n",
       "      <td>0.177105</td>\n",
       "      <td>0.406950</td>\n",
       "      <td>-0.473825</td>\n",
       "      <td>0.471495</td>\n",
       "      <td>0.109178</td>\n",
       "      <td>0.085823</td>\n",
       "      <td>0.506009</td>\n",
       "      <td>0.497715</td>\n",
       "      <td>0.396594</td>\n",
       "      <td>0.039722</td>\n",
       "      <td>0.069457</td>\n",
       "      <td>0.078157</td>\n",
       "      <td>-0.417398</td>\n",
       "      <td>-0.412952</td>\n",
       "      <td>-0.410644</td>\n",
       "      <td>-0.416702</td>\n",
       "      <td>-0.418148</td>\n",
       "    </tr>\n",
       "    <tr>\n",
       "      <th>shot_power</th>\n",
       "      <td>0.347885</td>\n",
       "      <td>0.274228</td>\n",
       "      <td>0.683626</td>\n",
       "      <td>0.749742</td>\n",
       "      <td>0.581341</td>\n",
       "      <td>0.746555</td>\n",
       "      <td>0.768610</td>\n",
       "      <td>0.763753</td>\n",
       "      <td>0.728929</td>\n",
       "      <td>0.718736</td>\n",
       "      <td>0.627006</td>\n",
       "      <td>0.801709</td>\n",
       "      <td>0.434161</td>\n",
       "      <td>0.443922</td>\n",
       "      <td>0.463734</td>\n",
       "      <td>0.339396</td>\n",
       "      <td>0.383014</td>\n",
       "      <td>1.000000</td>\n",
       "      <td>0.088751</td>\n",
       "      <td>0.527454</td>\n",
       "      <td>0.133364</td>\n",
       "      <td>0.855298</td>\n",
       "      <td>0.433358</td>\n",
       "      <td>0.209987</td>\n",
       "      <td>0.761075</td>\n",
       "      <td>0.658216</td>\n",
       "      <td>0.754638</td>\n",
       "      <td>0.143344</td>\n",
       "      <td>0.205187</td>\n",
       "      <td>0.164980</td>\n",
       "      <td>-0.658996</td>\n",
       "      <td>-0.657326</td>\n",
       "      <td>-0.654593</td>\n",
       "      <td>-0.658657</td>\n",
       "      <td>-0.660092</td>\n",
       "    </tr>\n",
       "    <tr>\n",
       "      <th>jumping</th>\n",
       "      <td>0.233605</td>\n",
       "      <td>0.172163</td>\n",
       "      <td>0.048116</td>\n",
       "      <td>0.014281</td>\n",
       "      <td>0.247838</td>\n",
       "      <td>0.075297</td>\n",
       "      <td>0.021653</td>\n",
       "      <td>0.053865</td>\n",
       "      <td>0.005761</td>\n",
       "      <td>-0.029241</td>\n",
       "      <td>0.059079</td>\n",
       "      <td>0.084879</td>\n",
       "      <td>0.204943</td>\n",
       "      <td>0.220834</td>\n",
       "      <td>0.185940</td>\n",
       "      <td>0.217071</td>\n",
       "      <td>0.177105</td>\n",
       "      <td>0.088751</td>\n",
       "      <td>1.000000</td>\n",
       "      <td>0.250939</td>\n",
       "      <td>0.172766</td>\n",
       "      <td>0.021978</td>\n",
       "      <td>0.249242</td>\n",
       "      <td>0.172764</td>\n",
       "      <td>0.047893</td>\n",
       "      <td>-0.000518</td>\n",
       "      <td>0.029576</td>\n",
       "      <td>0.173992</td>\n",
       "      <td>0.165862</td>\n",
       "      <td>0.183421</td>\n",
       "      <td>-0.072993</td>\n",
       "      <td>-0.071056</td>\n",
       "      <td>-0.070921</td>\n",
       "      <td>-0.069943</td>\n",
       "      <td>-0.068916</td>\n",
       "    </tr>\n",
       "    <tr>\n",
       "      <th>stamina</th>\n",
       "      <td>0.241977</td>\n",
       "      <td>0.233792</td>\n",
       "      <td>0.584142</td>\n",
       "      <td>0.376077</td>\n",
       "      <td>0.492828</td>\n",
       "      <td>0.618040</td>\n",
       "      <td>0.388391</td>\n",
       "      <td>0.584423</td>\n",
       "      <td>0.481505</td>\n",
       "      <td>0.423234</td>\n",
       "      <td>0.555292</td>\n",
       "      <td>0.626388</td>\n",
       "      <td>0.552374</td>\n",
       "      <td>0.572198</td>\n",
       "      <td>0.482563</td>\n",
       "      <td>0.245620</td>\n",
       "      <td>0.406950</td>\n",
       "      <td>0.527454</td>\n",
       "      <td>0.250939</td>\n",
       "      <td>1.000000</td>\n",
       "      <td>0.129037</td>\n",
       "      <td>0.485700</td>\n",
       "      <td>0.535709</td>\n",
       "      <td>0.459140</td>\n",
       "      <td>0.498753</td>\n",
       "      <td>0.435850</td>\n",
       "      <td>0.386916</td>\n",
       "      <td>0.425598</td>\n",
       "      <td>0.465969</td>\n",
       "      <td>0.451081</td>\n",
       "      <td>-0.614932</td>\n",
       "      <td>-0.610587</td>\n",
       "      <td>-0.605818</td>\n",
       "      <td>-0.611486</td>\n",
       "      <td>-0.615602</td>\n",
       "    </tr>\n",
       "    <tr>\n",
       "      <th>strength</th>\n",
       "      <td>0.215589</td>\n",
       "      <td>0.065608</td>\n",
       "      <td>-0.136503</td>\n",
       "      <td>-0.085452</td>\n",
       "      <td>0.458682</td>\n",
       "      <td>0.032031</td>\n",
       "      <td>-0.072783</td>\n",
       "      <td>-0.155298</td>\n",
       "      <td>-0.153595</td>\n",
       "      <td>-0.102380</td>\n",
       "      <td>0.023540</td>\n",
       "      <td>-0.027528</td>\n",
       "      <td>-0.304600</td>\n",
       "      <td>-0.204001</td>\n",
       "      <td>-0.408930</td>\n",
       "      <td>0.135564</td>\n",
       "      <td>-0.473825</td>\n",
       "      <td>0.133364</td>\n",
       "      <td>0.172766</td>\n",
       "      <td>0.129037</td>\n",
       "      <td>1.000000</td>\n",
       "      <td>-0.044605</td>\n",
       "      <td>0.447640</td>\n",
       "      <td>0.300903</td>\n",
       "      <td>-0.102203</td>\n",
       "      <td>-0.118652</td>\n",
       "      <td>-0.009600</td>\n",
       "      <td>0.314389</td>\n",
       "      <td>0.319819</td>\n",
       "      <td>0.287195</td>\n",
       "      <td>-0.083224</td>\n",
       "      <td>-0.081201</td>\n",
       "      <td>-0.082758</td>\n",
       "      <td>-0.083205</td>\n",
       "      <td>-0.081861</td>\n",
       "    </tr>\n",
       "    <tr>\n",
       "      <th>long_shots</th>\n",
       "      <td>0.326083</td>\n",
       "      <td>0.265409</td>\n",
       "      <td>0.729019</td>\n",
       "      <td>0.826329</td>\n",
       "      <td>0.428385</td>\n",
       "      <td>0.745760</td>\n",
       "      <td>0.836513</td>\n",
       "      <td>0.815342</td>\n",
       "      <td>0.806222</td>\n",
       "      <td>0.797479</td>\n",
       "      <td>0.642487</td>\n",
       "      <td>0.808432</td>\n",
       "      <td>0.478829</td>\n",
       "      <td>0.452157</td>\n",
       "      <td>0.555267</td>\n",
       "      <td>0.347394</td>\n",
       "      <td>0.471495</td>\n",
       "      <td>0.855298</td>\n",
       "      <td>0.021978</td>\n",
       "      <td>0.485700</td>\n",
       "      <td>-0.044605</td>\n",
       "      <td>1.000000</td>\n",
       "      <td>0.284832</td>\n",
       "      <td>0.101999</td>\n",
       "      <td>0.820785</td>\n",
       "      <td>0.746878</td>\n",
       "      <td>0.778312</td>\n",
       "      <td>0.014222</td>\n",
       "      <td>0.083900</td>\n",
       "      <td>0.045772</td>\n",
       "      <td>-0.587469</td>\n",
       "      <td>-0.583090</td>\n",
       "      <td>-0.582399</td>\n",
       "      <td>-0.586945</td>\n",
       "      <td>-0.587427</td>\n",
       "    </tr>\n",
       "    <tr>\n",
       "      <th>aggression</th>\n",
       "      <td>0.269096</td>\n",
       "      <td>0.146234</td>\n",
       "      <td>0.377988</td>\n",
       "      <td>0.106609</td>\n",
       "      <td>0.638928</td>\n",
       "      <td>0.512571</td>\n",
       "      <td>0.178628</td>\n",
       "      <td>0.288671</td>\n",
       "      <td>0.266032</td>\n",
       "      <td>0.283667</td>\n",
       "      <td>0.517965</td>\n",
       "      <td>0.437123</td>\n",
       "      <td>0.093487</td>\n",
       "      <td>0.139718</td>\n",
       "      <td>0.055090</td>\n",
       "      <td>0.261671</td>\n",
       "      <td>0.109178</td>\n",
       "      <td>0.433358</td>\n",
       "      <td>0.249242</td>\n",
       "      <td>0.535709</td>\n",
       "      <td>0.447640</td>\n",
       "      <td>0.284832</td>\n",
       "      <td>1.000000</td>\n",
       "      <td>0.702435</td>\n",
       "      <td>0.220701</td>\n",
       "      <td>0.247035</td>\n",
       "      <td>0.246239</td>\n",
       "      <td>0.684734</td>\n",
       "      <td>0.710486</td>\n",
       "      <td>0.686803</td>\n",
       "      <td>-0.544239</td>\n",
       "      <td>-0.542082</td>\n",
       "      <td>-0.535819</td>\n",
       "      <td>-0.540228</td>\n",
       "      <td>-0.542758</td>\n",
       "    </tr>\n",
       "    <tr>\n",
       "      <th>interceptions</th>\n",
       "      <td>0.203424</td>\n",
       "      <td>0.121259</td>\n",
       "      <td>0.329211</td>\n",
       "      <td>-0.175514</td>\n",
       "      <td>0.475335</td>\n",
       "      <td>0.458404</td>\n",
       "      <td>-0.066498</td>\n",
       "      <td>0.140436</td>\n",
       "      <td>0.161390</td>\n",
       "      <td>0.190194</td>\n",
       "      <td>0.568255</td>\n",
       "      <td>0.304333</td>\n",
       "      <td>-0.005624</td>\n",
       "      <td>0.023251</td>\n",
       "      <td>-0.029564</td>\n",
       "      <td>0.183333</td>\n",
       "      <td>0.085823</td>\n",
       "      <td>0.209987</td>\n",
       "      <td>0.172764</td>\n",
       "      <td>0.459140</td>\n",
       "      <td>0.300903</td>\n",
       "      <td>0.101999</td>\n",
       "      <td>0.702435</td>\n",
       "      <td>1.000000</td>\n",
       "      <td>-0.009158</td>\n",
       "      <td>0.145390</td>\n",
       "      <td>0.021083</td>\n",
       "      <td>0.914214</td>\n",
       "      <td>0.927035</td>\n",
       "      <td>0.912904</td>\n",
       "      <td>-0.444584</td>\n",
       "      <td>-0.446337</td>\n",
       "      <td>-0.436923</td>\n",
       "      <td>-0.442662</td>\n",
       "      <td>-0.443024</td>\n",
       "    </tr>\n",
       "    <tr>\n",
       "      <th>positioning</th>\n",
       "      <td>0.285609</td>\n",
       "      <td>0.256299</td>\n",
       "      <td>0.727912</td>\n",
       "      <td>0.870469</td>\n",
       "      <td>0.422624</td>\n",
       "      <td>0.707954</td>\n",
       "      <td>0.835576</td>\n",
       "      <td>0.857636</td>\n",
       "      <td>0.773694</td>\n",
       "      <td>0.690948</td>\n",
       "      <td>0.531786</td>\n",
       "      <td>0.816729</td>\n",
       "      <td>0.570575</td>\n",
       "      <td>0.548166</td>\n",
       "      <td>0.620826</td>\n",
       "      <td>0.338409</td>\n",
       "      <td>0.506009</td>\n",
       "      <td>0.761075</td>\n",
       "      <td>0.047893</td>\n",
       "      <td>0.498753</td>\n",
       "      <td>-0.102203</td>\n",
       "      <td>0.820785</td>\n",
       "      <td>0.220701</td>\n",
       "      <td>-0.009158</td>\n",
       "      <td>1.000000</td>\n",
       "      <td>0.733159</td>\n",
       "      <td>0.767211</td>\n",
       "      <td>-0.093369</td>\n",
       "      <td>-0.024136</td>\n",
       "      <td>-0.056259</td>\n",
       "      <td>-0.598002</td>\n",
       "      <td>-0.593261</td>\n",
       "      <td>-0.591695</td>\n",
       "      <td>-0.597001</td>\n",
       "      <td>-0.598320</td>\n",
       "    </tr>\n",
       "    <tr>\n",
       "      <th>vision</th>\n",
       "      <td>0.409411</td>\n",
       "      <td>0.349201</td>\n",
       "      <td>0.691808</td>\n",
       "      <td>0.677950</td>\n",
       "      <td>0.287898</td>\n",
       "      <td>0.755552</td>\n",
       "      <td>0.703066</td>\n",
       "      <td>0.735684</td>\n",
       "      <td>0.736275</td>\n",
       "      <td>0.714660</td>\n",
       "      <td>0.687234</td>\n",
       "      <td>0.757680</td>\n",
       "      <td>0.417218</td>\n",
       "      <td>0.373992</td>\n",
       "      <td>0.550416</td>\n",
       "      <td>0.433430</td>\n",
       "      <td>0.497715</td>\n",
       "      <td>0.658216</td>\n",
       "      <td>-0.000518</td>\n",
       "      <td>0.435850</td>\n",
       "      <td>-0.118652</td>\n",
       "      <td>0.746878</td>\n",
       "      <td>0.247035</td>\n",
       "      <td>0.145390</td>\n",
       "      <td>0.733159</td>\n",
       "      <td>1.000000</td>\n",
       "      <td>0.661746</td>\n",
       "      <td>0.034469</td>\n",
       "      <td>0.105193</td>\n",
       "      <td>0.065921</td>\n",
       "      <td>-0.458591</td>\n",
       "      <td>-0.454977</td>\n",
       "      <td>-0.452018</td>\n",
       "      <td>-0.456084</td>\n",
       "      <td>-0.455693</td>\n",
       "    </tr>\n",
       "    <tr>\n",
       "      <th>penalties</th>\n",
       "      <td>0.278143</td>\n",
       "      <td>0.215750</td>\n",
       "      <td>0.620951</td>\n",
       "      <td>0.795875</td>\n",
       "      <td>0.477403</td>\n",
       "      <td>0.660161</td>\n",
       "      <td>0.786152</td>\n",
       "      <td>0.723614</td>\n",
       "      <td>0.717838</td>\n",
       "      <td>0.717091</td>\n",
       "      <td>0.513584</td>\n",
       "      <td>0.737187</td>\n",
       "      <td>0.393437</td>\n",
       "      <td>0.377718</td>\n",
       "      <td>0.459486</td>\n",
       "      <td>0.298518</td>\n",
       "      <td>0.396594</td>\n",
       "      <td>0.754638</td>\n",
       "      <td>0.029576</td>\n",
       "      <td>0.386916</td>\n",
       "      <td>-0.009600</td>\n",
       "      <td>0.778312</td>\n",
       "      <td>0.246239</td>\n",
       "      <td>0.021083</td>\n",
       "      <td>0.767211</td>\n",
       "      <td>0.661746</td>\n",
       "      <td>1.000000</td>\n",
       "      <td>-0.045089</td>\n",
       "      <td>0.013405</td>\n",
       "      <td>-0.027988</td>\n",
       "      <td>-0.573131</td>\n",
       "      <td>-0.567817</td>\n",
       "      <td>-0.566726</td>\n",
       "      <td>-0.572689</td>\n",
       "      <td>-0.572868</td>\n",
       "    </tr>\n",
       "    <tr>\n",
       "      <th>marking</th>\n",
       "      <td>0.122011</td>\n",
       "      <td>0.068372</td>\n",
       "      <td>0.274110</td>\n",
       "      <td>-0.248159</td>\n",
       "      <td>0.481460</td>\n",
       "      <td>0.385064</td>\n",
       "      <td>-0.148167</td>\n",
       "      <td>0.079198</td>\n",
       "      <td>0.082268</td>\n",
       "      <td>0.107587</td>\n",
       "      <td>0.492463</td>\n",
       "      <td>0.239548</td>\n",
       "      <td>-0.028957</td>\n",
       "      <td>0.009755</td>\n",
       "      <td>-0.085376</td>\n",
       "      <td>0.086359</td>\n",
       "      <td>0.039722</td>\n",
       "      <td>0.143344</td>\n",
       "      <td>0.173992</td>\n",
       "      <td>0.425598</td>\n",
       "      <td>0.314389</td>\n",
       "      <td>0.014222</td>\n",
       "      <td>0.684734</td>\n",
       "      <td>0.914214</td>\n",
       "      <td>-0.093369</td>\n",
       "      <td>0.034469</td>\n",
       "      <td>-0.045089</td>\n",
       "      <td>1.000000</td>\n",
       "      <td>0.959189</td>\n",
       "      <td>0.959274</td>\n",
       "      <td>-0.438282</td>\n",
       "      <td>-0.441074</td>\n",
       "      <td>-0.431896</td>\n",
       "      <td>-0.435872</td>\n",
       "      <td>-0.436514</td>\n",
       "    </tr>\n",
       "    <tr>\n",
       "      <th>standing_tackle</th>\n",
       "      <td>0.152052</td>\n",
       "      <td>0.097823</td>\n",
       "      <td>0.324442</td>\n",
       "      <td>-0.186195</td>\n",
       "      <td>0.505468</td>\n",
       "      <td>0.451078</td>\n",
       "      <td>-0.082637</td>\n",
       "      <td>0.142647</td>\n",
       "      <td>0.144385</td>\n",
       "      <td>0.170238</td>\n",
       "      <td>0.548308</td>\n",
       "      <td>0.304515</td>\n",
       "      <td>-0.000082</td>\n",
       "      <td>0.038982</td>\n",
       "      <td>-0.048907</td>\n",
       "      <td>0.121102</td>\n",
       "      <td>0.069457</td>\n",
       "      <td>0.205187</td>\n",
       "      <td>0.165862</td>\n",
       "      <td>0.465969</td>\n",
       "      <td>0.319819</td>\n",
       "      <td>0.083900</td>\n",
       "      <td>0.710486</td>\n",
       "      <td>0.927035</td>\n",
       "      <td>-0.024136</td>\n",
       "      <td>0.105193</td>\n",
       "      <td>0.013405</td>\n",
       "      <td>0.959189</td>\n",
       "      <td>1.000000</td>\n",
       "      <td>0.969642</td>\n",
       "      <td>-0.480752</td>\n",
       "      <td>-0.482256</td>\n",
       "      <td>-0.474083</td>\n",
       "      <td>-0.478378</td>\n",
       "      <td>-0.479237</td>\n",
       "    </tr>\n",
       "    <tr>\n",
       "      <th>sliding_tackle</th>\n",
       "      <td>0.134891</td>\n",
       "      <td>0.089100</td>\n",
       "      <td>0.312264</td>\n",
       "      <td>-0.224519</td>\n",
       "      <td>0.466825</td>\n",
       "      <td>0.411326</td>\n",
       "      <td>-0.117229</td>\n",
       "      <td>0.117572</td>\n",
       "      <td>0.117374</td>\n",
       "      <td>0.134160</td>\n",
       "      <td>0.518224</td>\n",
       "      <td>0.268021</td>\n",
       "      <td>0.012371</td>\n",
       "      <td>0.049277</td>\n",
       "      <td>-0.043100</td>\n",
       "      <td>0.105893</td>\n",
       "      <td>0.078157</td>\n",
       "      <td>0.164980</td>\n",
       "      <td>0.183421</td>\n",
       "      <td>0.451081</td>\n",
       "      <td>0.287195</td>\n",
       "      <td>0.045772</td>\n",
       "      <td>0.686803</td>\n",
       "      <td>0.912904</td>\n",
       "      <td>-0.056259</td>\n",
       "      <td>0.065921</td>\n",
       "      <td>-0.027988</td>\n",
       "      <td>0.959274</td>\n",
       "      <td>0.969642</td>\n",
       "      <td>1.000000</td>\n",
       "      <td>-0.447686</td>\n",
       "      <td>-0.449022</td>\n",
       "      <td>-0.440551</td>\n",
       "      <td>-0.445475</td>\n",
       "      <td>-0.446512</td>\n",
       "    </tr>\n",
       "    <tr>\n",
       "      <th>gk_diving</th>\n",
       "      <td>0.029723</td>\n",
       "      <td>-0.008990</td>\n",
       "      <td>-0.654603</td>\n",
       "      <td>-0.519915</td>\n",
       "      <td>-0.734214</td>\n",
       "      <td>-0.736448</td>\n",
       "      <td>-0.531869</td>\n",
       "      <td>-0.707677</td>\n",
       "      <td>-0.584544</td>\n",
       "      <td>-0.544635</td>\n",
       "      <td>-0.609889</td>\n",
       "      <td>-0.784109</td>\n",
       "      <td>-0.453278</td>\n",
       "      <td>-0.471004</td>\n",
       "      <td>-0.402478</td>\n",
       "      <td>-0.007404</td>\n",
       "      <td>-0.417398</td>\n",
       "      <td>-0.658996</td>\n",
       "      <td>-0.072993</td>\n",
       "      <td>-0.614932</td>\n",
       "      <td>-0.083224</td>\n",
       "      <td>-0.587469</td>\n",
       "      <td>-0.544239</td>\n",
       "      <td>-0.444584</td>\n",
       "      <td>-0.598002</td>\n",
       "      <td>-0.458591</td>\n",
       "      <td>-0.573131</td>\n",
       "      <td>-0.438282</td>\n",
       "      <td>-0.480752</td>\n",
       "      <td>-0.447686</td>\n",
       "      <td>1.000000</td>\n",
       "      <td>0.964350</td>\n",
       "      <td>0.959023</td>\n",
       "      <td>0.964903</td>\n",
       "      <td>0.969689</td>\n",
       "    </tr>\n",
       "    <tr>\n",
       "      <th>gk_handling</th>\n",
       "      <td>0.032112</td>\n",
       "      <td>-0.008277</td>\n",
       "      <td>-0.651642</td>\n",
       "      <td>-0.513952</td>\n",
       "      <td>-0.732242</td>\n",
       "      <td>-0.732403</td>\n",
       "      <td>-0.527925</td>\n",
       "      <td>-0.702359</td>\n",
       "      <td>-0.580548</td>\n",
       "      <td>-0.541333</td>\n",
       "      <td>-0.605864</td>\n",
       "      <td>-0.779062</td>\n",
       "      <td>-0.449762</td>\n",
       "      <td>-0.465618</td>\n",
       "      <td>-0.398713</td>\n",
       "      <td>-0.005306</td>\n",
       "      <td>-0.412952</td>\n",
       "      <td>-0.657326</td>\n",
       "      <td>-0.071056</td>\n",
       "      <td>-0.610587</td>\n",
       "      <td>-0.081201</td>\n",
       "      <td>-0.583090</td>\n",
       "      <td>-0.542082</td>\n",
       "      <td>-0.446337</td>\n",
       "      <td>-0.593261</td>\n",
       "      <td>-0.454977</td>\n",
       "      <td>-0.567817</td>\n",
       "      <td>-0.441074</td>\n",
       "      <td>-0.482256</td>\n",
       "      <td>-0.449022</td>\n",
       "      <td>0.964350</td>\n",
       "      <td>1.000000</td>\n",
       "      <td>0.957040</td>\n",
       "      <td>0.964090</td>\n",
       "      <td>0.963710</td>\n",
       "    </tr>\n",
       "    <tr>\n",
       "      <th>gk_kicking</th>\n",
       "      <td>0.028797</td>\n",
       "      <td>-0.011134</td>\n",
       "      <td>-0.647341</td>\n",
       "      <td>-0.516438</td>\n",
       "      <td>-0.726710</td>\n",
       "      <td>-0.728134</td>\n",
       "      <td>-0.528407</td>\n",
       "      <td>-0.700129</td>\n",
       "      <td>-0.579310</td>\n",
       "      <td>-0.538959</td>\n",
       "      <td>-0.602549</td>\n",
       "      <td>-0.775141</td>\n",
       "      <td>-0.445844</td>\n",
       "      <td>-0.463962</td>\n",
       "      <td>-0.397502</td>\n",
       "      <td>-0.007406</td>\n",
       "      <td>-0.410644</td>\n",
       "      <td>-0.654593</td>\n",
       "      <td>-0.070921</td>\n",
       "      <td>-0.605818</td>\n",
       "      <td>-0.082758</td>\n",
       "      <td>-0.582399</td>\n",
       "      <td>-0.535819</td>\n",
       "      <td>-0.436923</td>\n",
       "      <td>-0.591695</td>\n",
       "      <td>-0.452018</td>\n",
       "      <td>-0.566726</td>\n",
       "      <td>-0.431896</td>\n",
       "      <td>-0.474083</td>\n",
       "      <td>-0.440551</td>\n",
       "      <td>0.959023</td>\n",
       "      <td>0.957040</td>\n",
       "      <td>1.000000</td>\n",
       "      <td>0.958229</td>\n",
       "      <td>0.959022</td>\n",
       "    </tr>\n",
       "    <tr>\n",
       "      <th>gk_positioning</th>\n",
       "      <td>0.032090</td>\n",
       "      <td>-0.011421</td>\n",
       "      <td>-0.654693</td>\n",
       "      <td>-0.519262</td>\n",
       "      <td>-0.730981</td>\n",
       "      <td>-0.734203</td>\n",
       "      <td>-0.532203</td>\n",
       "      <td>-0.705065</td>\n",
       "      <td>-0.586157</td>\n",
       "      <td>-0.544079</td>\n",
       "      <td>-0.607520</td>\n",
       "      <td>-0.780926</td>\n",
       "      <td>-0.454589</td>\n",
       "      <td>-0.472691</td>\n",
       "      <td>-0.402400</td>\n",
       "      <td>-0.005219</td>\n",
       "      <td>-0.416702</td>\n",
       "      <td>-0.658657</td>\n",
       "      <td>-0.069943</td>\n",
       "      <td>-0.611486</td>\n",
       "      <td>-0.083205</td>\n",
       "      <td>-0.586945</td>\n",
       "      <td>-0.540228</td>\n",
       "      <td>-0.442662</td>\n",
       "      <td>-0.597001</td>\n",
       "      <td>-0.456084</td>\n",
       "      <td>-0.572689</td>\n",
       "      <td>-0.435872</td>\n",
       "      <td>-0.478378</td>\n",
       "      <td>-0.445475</td>\n",
       "      <td>0.964903</td>\n",
       "      <td>0.964090</td>\n",
       "      <td>0.958229</td>\n",
       "      <td>1.000000</td>\n",
       "      <td>0.964852</td>\n",
       "    </tr>\n",
       "    <tr>\n",
       "      <th>gk_reflexes</th>\n",
       "      <td>0.032358</td>\n",
       "      <td>-0.007122</td>\n",
       "      <td>-0.656178</td>\n",
       "      <td>-0.520261</td>\n",
       "      <td>-0.732507</td>\n",
       "      <td>-0.733630</td>\n",
       "      <td>-0.532171</td>\n",
       "      <td>-0.705573</td>\n",
       "      <td>-0.586084</td>\n",
       "      <td>-0.544443</td>\n",
       "      <td>-0.607834</td>\n",
       "      <td>-0.781889</td>\n",
       "      <td>-0.452612</td>\n",
       "      <td>-0.471078</td>\n",
       "      <td>-0.402946</td>\n",
       "      <td>-0.004770</td>\n",
       "      <td>-0.418148</td>\n",
       "      <td>-0.660092</td>\n",
       "      <td>-0.068916</td>\n",
       "      <td>-0.615602</td>\n",
       "      <td>-0.081861</td>\n",
       "      <td>-0.587427</td>\n",
       "      <td>-0.542758</td>\n",
       "      <td>-0.443024</td>\n",
       "      <td>-0.598320</td>\n",
       "      <td>-0.455693</td>\n",
       "      <td>-0.572868</td>\n",
       "      <td>-0.436514</td>\n",
       "      <td>-0.479237</td>\n",
       "      <td>-0.446512</td>\n",
       "      <td>0.969689</td>\n",
       "      <td>0.963710</td>\n",
       "      <td>0.959022</td>\n",
       "      <td>0.964852</td>\n",
       "      <td>1.000000</td>\n",
       "    </tr>\n",
       "  </tbody>\n",
       "</table>\n",
       "</div>"
      ],
      "text/plain": [
       "                    overall_rating  potential  crossing  finishing  \\\n",
       "overall_rating            1.000000   0.815249  0.293684   0.266877   \n",
       "potential                 0.815249   1.000000  0.242029   0.244247   \n",
       "crossing                  0.293684   0.242029  1.000000   0.602687   \n",
       "finishing                 0.266877   0.244247  0.602687   1.000000   \n",
       "heading_accuracy          0.236246   0.165555  0.402634   0.394889   \n",
       "short_passing             0.412008   0.367661  0.803246   0.609391   \n",
       "volleys                   0.304024   0.248509  0.654547   0.870419   \n",
       "dribbling                 0.296112   0.317433  0.829761   0.789398   \n",
       "curve                     0.326502   0.268560  0.817277   0.711735   \n",
       "free_kick_accuracy        0.283547   0.204085  0.732209   0.657718   \n",
       "long_passing              0.392166   0.320514  0.744029   0.421171   \n",
       "ball_control              0.380553   0.365276  0.827153   0.738709   \n",
       "acceleration              0.174668   0.299818  0.576943   0.501686   \n",
       "sprint_speed              0.188511   0.309311  0.556556   0.481219   \n",
       "agility                   0.215998   0.267011  0.618485   0.553901   \n",
       "reactions                 0.787206   0.602781  0.311563   0.291960   \n",
       "balance                   0.100119   0.161929  0.577861   0.423846   \n",
       "shot_power                0.347885   0.274228  0.683626   0.749742   \n",
       "jumping                   0.233605   0.172163  0.048116   0.014281   \n",
       "stamina                   0.241977   0.233792  0.584142   0.376077   \n",
       "strength                  0.215589   0.065608 -0.136503  -0.085452   \n",
       "long_shots                0.326083   0.265409  0.729019   0.826329   \n",
       "aggression                0.269096   0.146234  0.377988   0.106609   \n",
       "interceptions             0.203424   0.121259  0.329211  -0.175514   \n",
       "positioning               0.285609   0.256299  0.727912   0.870469   \n",
       "vision                    0.409411   0.349201  0.691808   0.677950   \n",
       "penalties                 0.278143   0.215750  0.620951   0.795875   \n",
       "marking                   0.122011   0.068372  0.274110  -0.248159   \n",
       "standing_tackle           0.152052   0.097823  0.324442  -0.186195   \n",
       "sliding_tackle            0.134891   0.089100  0.312264  -0.224519   \n",
       "gk_diving                 0.029723  -0.008990 -0.654603  -0.519915   \n",
       "gk_handling               0.032112  -0.008277 -0.651642  -0.513952   \n",
       "gk_kicking                0.028797  -0.011134 -0.647341  -0.516438   \n",
       "gk_positioning            0.032090  -0.011421 -0.654693  -0.519262   \n",
       "gk_reflexes               0.032358  -0.007122 -0.656178  -0.520261   \n",
       "\n",
       "                    heading_accuracy  short_passing   volleys  dribbling  \\\n",
       "overall_rating              0.236246       0.412008  0.304024   0.296112   \n",
       "potential                   0.165555       0.367661  0.248509   0.317433   \n",
       "crossing                    0.402634       0.803246  0.654547   0.829761   \n",
       "finishing                   0.394889       0.609391  0.870419   0.789398   \n",
       "heading_accuracy            1.000000       0.579282  0.406924   0.448041   \n",
       "short_passing               0.579282       1.000000  0.652236   0.812938   \n",
       "volleys                     0.406924       0.652236  1.000000   0.784317   \n",
       "dribbling                   0.448041       0.812938  0.784317   1.000000   \n",
       "curve                       0.356718       0.755942  0.760770   0.822143   \n",
       "free_kick_accuracy          0.338306       0.715015  0.708657   0.723443   \n",
       "long_passing                0.456997       0.880310  0.495958   0.666167   \n",
       "ball_control                0.589430       0.905642  0.755249   0.920367   \n",
       "acceleration                0.156921       0.465631  0.470034   0.685186   \n",
       "sprint_speed                0.225398       0.452852  0.448022   0.655831   \n",
       "agility                     0.089995       0.521943  0.547171   0.713123   \n",
       "reactions                   0.203711       0.394963  0.335563   0.301088   \n",
       "balance                     0.057231       0.490882  0.442740   0.606836   \n",
       "shot_power                  0.581341       0.746555  0.768610   0.763753   \n",
       "jumping                     0.247838       0.075297  0.021653   0.053865   \n",
       "stamina                     0.492828       0.618040  0.388391   0.584423   \n",
       "strength                    0.458682       0.032031 -0.072783  -0.155298   \n",
       "long_shots                  0.428385       0.745760  0.836513   0.815342   \n",
       "aggression                  0.638928       0.512571  0.178628   0.288671   \n",
       "interceptions               0.475335       0.458404 -0.066498   0.140436   \n",
       "positioning                 0.422624       0.707954  0.835576   0.857636   \n",
       "vision                      0.287898       0.755552  0.703066   0.735684   \n",
       "penalties                   0.477403       0.660161  0.786152   0.723614   \n",
       "marking                     0.481460       0.385064 -0.148167   0.079198   \n",
       "standing_tackle             0.505468       0.451078 -0.082637   0.142647   \n",
       "sliding_tackle              0.466825       0.411326 -0.117229   0.117572   \n",
       "gk_diving                  -0.734214      -0.736448 -0.531869  -0.707677   \n",
       "gk_handling                -0.732242      -0.732403 -0.527925  -0.702359   \n",
       "gk_kicking                 -0.726710      -0.728134 -0.528407  -0.700129   \n",
       "gk_positioning             -0.730981      -0.734203 -0.532203  -0.705065   \n",
       "gk_reflexes                -0.732507      -0.733630 -0.532171  -0.705573   \n",
       "\n",
       "                       curve  free_kick_accuracy  long_passing  ball_control  \\\n",
       "overall_rating      0.326502            0.283547      0.392166      0.380553   \n",
       "potential           0.268560            0.204085      0.320514      0.365276   \n",
       "crossing            0.817277            0.732209      0.744029      0.827153   \n",
       "finishing           0.711735            0.657718      0.421171      0.738709   \n",
       "heading_accuracy    0.356718            0.338306      0.456997      0.589430   \n",
       "short_passing       0.755942            0.715015      0.880310      0.905642   \n",
       "volleys             0.760770            0.708657      0.495958      0.755249   \n",
       "dribbling           0.822143            0.723443      0.666167      0.920367   \n",
       "curve               1.000000            0.827755      0.675309      0.812113   \n",
       "free_kick_accuracy  0.827755            1.000000      0.670172      0.736099   \n",
       "long_passing        0.675309            0.670172      1.000000      0.765862   \n",
       "ball_control        0.812113            0.736099      0.765862      1.000000   \n",
       "acceleration        0.519488            0.391320      0.346493      0.588591   \n",
       "sprint_speed        0.483456            0.354244      0.328437      0.573165   \n",
       "agility             0.611963            0.503993      0.426705      0.625814   \n",
       "reactions           0.343713            0.310799      0.367385      0.364547   \n",
       "balance             0.541798            0.464484      0.432159      0.552968   \n",
       "shot_power          0.728929            0.718736      0.627006      0.801709   \n",
       "jumping             0.005761           -0.029241      0.059079      0.084879   \n",
       "stamina             0.481505            0.423234      0.555292      0.626388   \n",
       "strength           -0.153595           -0.102380      0.023540     -0.027528   \n",
       "long_shots          0.806222            0.797479      0.642487      0.808432   \n",
       "aggression          0.266032            0.283667      0.517965      0.437123   \n",
       "interceptions       0.161390            0.190194      0.568255      0.304333   \n",
       "positioning         0.773694            0.690948      0.531786      0.816729   \n",
       "vision              0.736275            0.714660      0.687234      0.757680   \n",
       "penalties           0.717838            0.717091      0.513584      0.737187   \n",
       "marking             0.082268            0.107587      0.492463      0.239548   \n",
       "standing_tackle     0.144385            0.170238      0.548308      0.304515   \n",
       "sliding_tackle      0.117374            0.134160      0.518224      0.268021   \n",
       "gk_diving          -0.584544           -0.544635     -0.609889     -0.784109   \n",
       "gk_handling        -0.580548           -0.541333     -0.605864     -0.779062   \n",
       "gk_kicking         -0.579310           -0.538959     -0.602549     -0.775141   \n",
       "gk_positioning     -0.586157           -0.544079     -0.607520     -0.780926   \n",
       "gk_reflexes        -0.586084           -0.544443     -0.607834     -0.781889   \n",
       "\n",
       "                    acceleration  sprint_speed   agility  reactions   balance  \\\n",
       "overall_rating          0.174668      0.188511  0.215998   0.787206  0.100119   \n",
       "potential               0.299818      0.309311  0.267011   0.602781  0.161929   \n",
       "crossing                0.576943      0.556556  0.618485   0.311563  0.577861   \n",
       "finishing               0.501686      0.481219  0.553901   0.291960  0.423846   \n",
       "heading_accuracy        0.156921      0.225398  0.089995   0.203711  0.057231   \n",
       "short_passing           0.465631      0.452852  0.521943   0.394963  0.490882   \n",
       "volleys                 0.470034      0.448022  0.547171   0.335563  0.442740   \n",
       "dribbling               0.685186      0.655831  0.713123   0.301088  0.606836   \n",
       "curve                   0.519488      0.483456  0.611963   0.343713  0.541798   \n",
       "free_kick_accuracy      0.391320      0.354244  0.503993   0.310799  0.464484   \n",
       "long_passing            0.346493      0.328437  0.426705   0.367385  0.432159   \n",
       "ball_control            0.588591      0.573165  0.625814   0.364547  0.552968   \n",
       "acceleration            1.000000      0.912161  0.797346   0.171529  0.653631   \n",
       "sprint_speed            0.912161      1.000000  0.730343   0.166133  0.571543   \n",
       "agility                 0.797346      0.730343  1.000000   0.252051  0.742262   \n",
       "reactions               0.171529      0.166133  0.252051   1.000000  0.151187   \n",
       "balance                 0.653631      0.571543  0.742262   0.151187  1.000000   \n",
       "shot_power              0.434161      0.443922  0.463734   0.339396  0.383014   \n",
       "jumping                 0.204943      0.220834  0.185940   0.217071  0.177105   \n",
       "stamina                 0.552374      0.572198  0.482563   0.245620  0.406950   \n",
       "strength               -0.304600     -0.204001 -0.408930   0.135564 -0.473825   \n",
       "long_shots              0.478829      0.452157  0.555267   0.347394  0.471495   \n",
       "aggression              0.093487      0.139718  0.055090   0.261671  0.109178   \n",
       "interceptions          -0.005624      0.023251 -0.029564   0.183333  0.085823   \n",
       "positioning             0.570575      0.548166  0.620826   0.338409  0.506009   \n",
       "vision                  0.417218      0.373992  0.550416   0.433430  0.497715   \n",
       "penalties               0.393437      0.377718  0.459486   0.298518  0.396594   \n",
       "marking                -0.028957      0.009755 -0.085376   0.086359  0.039722   \n",
       "standing_tackle        -0.000082      0.038982 -0.048907   0.121102  0.069457   \n",
       "sliding_tackle          0.012371      0.049277 -0.043100   0.105893  0.078157   \n",
       "gk_diving              -0.453278     -0.471004 -0.402478  -0.007404 -0.417398   \n",
       "gk_handling            -0.449762     -0.465618 -0.398713  -0.005306 -0.412952   \n",
       "gk_kicking             -0.445844     -0.463962 -0.397502  -0.007406 -0.410644   \n",
       "gk_positioning         -0.454589     -0.472691 -0.402400  -0.005219 -0.416702   \n",
       "gk_reflexes            -0.452612     -0.471078 -0.402946  -0.004770 -0.418148   \n",
       "\n",
       "                    shot_power   jumping   stamina  strength  long_shots  \\\n",
       "overall_rating        0.347885  0.233605  0.241977  0.215589    0.326083   \n",
       "potential             0.274228  0.172163  0.233792  0.065608    0.265409   \n",
       "crossing              0.683626  0.048116  0.584142 -0.136503    0.729019   \n",
       "finishing             0.749742  0.014281  0.376077 -0.085452    0.826329   \n",
       "heading_accuracy      0.581341  0.247838  0.492828  0.458682    0.428385   \n",
       "short_passing         0.746555  0.075297  0.618040  0.032031    0.745760   \n",
       "volleys               0.768610  0.021653  0.388391 -0.072783    0.836513   \n",
       "dribbling             0.763753  0.053865  0.584423 -0.155298    0.815342   \n",
       "curve                 0.728929  0.005761  0.481505 -0.153595    0.806222   \n",
       "free_kick_accuracy    0.718736 -0.029241  0.423234 -0.102380    0.797479   \n",
       "long_passing          0.627006  0.059079  0.555292  0.023540    0.642487   \n",
       "ball_control          0.801709  0.084879  0.626388 -0.027528    0.808432   \n",
       "acceleration          0.434161  0.204943  0.552374 -0.304600    0.478829   \n",
       "sprint_speed          0.443922  0.220834  0.572198 -0.204001    0.452157   \n",
       "agility               0.463734  0.185940  0.482563 -0.408930    0.555267   \n",
       "reactions             0.339396  0.217071  0.245620  0.135564    0.347394   \n",
       "balance               0.383014  0.177105  0.406950 -0.473825    0.471495   \n",
       "shot_power            1.000000  0.088751  0.527454  0.133364    0.855298   \n",
       "jumping               0.088751  1.000000  0.250939  0.172766    0.021978   \n",
       "stamina               0.527454  0.250939  1.000000  0.129037    0.485700   \n",
       "strength              0.133364  0.172766  0.129037  1.000000   -0.044605   \n",
       "long_shots            0.855298  0.021978  0.485700 -0.044605    1.000000   \n",
       "aggression            0.433358  0.249242  0.535709  0.447640    0.284832   \n",
       "interceptions         0.209987  0.172764  0.459140  0.300903    0.101999   \n",
       "positioning           0.761075  0.047893  0.498753 -0.102203    0.820785   \n",
       "vision                0.658216 -0.000518  0.435850 -0.118652    0.746878   \n",
       "penalties             0.754638  0.029576  0.386916 -0.009600    0.778312   \n",
       "marking               0.143344  0.173992  0.425598  0.314389    0.014222   \n",
       "standing_tackle       0.205187  0.165862  0.465969  0.319819    0.083900   \n",
       "sliding_tackle        0.164980  0.183421  0.451081  0.287195    0.045772   \n",
       "gk_diving            -0.658996 -0.072993 -0.614932 -0.083224   -0.587469   \n",
       "gk_handling          -0.657326 -0.071056 -0.610587 -0.081201   -0.583090   \n",
       "gk_kicking           -0.654593 -0.070921 -0.605818 -0.082758   -0.582399   \n",
       "gk_positioning       -0.658657 -0.069943 -0.611486 -0.083205   -0.586945   \n",
       "gk_reflexes          -0.660092 -0.068916 -0.615602 -0.081861   -0.587427   \n",
       "\n",
       "                    aggression  interceptions  positioning    vision  \\\n",
       "overall_rating        0.269096       0.203424     0.285609  0.409411   \n",
       "potential             0.146234       0.121259     0.256299  0.349201   \n",
       "crossing              0.377988       0.329211     0.727912  0.691808   \n",
       "finishing             0.106609      -0.175514     0.870469  0.677950   \n",
       "heading_accuracy      0.638928       0.475335     0.422624  0.287898   \n",
       "short_passing         0.512571       0.458404     0.707954  0.755552   \n",
       "volleys               0.178628      -0.066498     0.835576  0.703066   \n",
       "dribbling             0.288671       0.140436     0.857636  0.735684   \n",
       "curve                 0.266032       0.161390     0.773694  0.736275   \n",
       "free_kick_accuracy    0.283667       0.190194     0.690948  0.714660   \n",
       "long_passing          0.517965       0.568255     0.531786  0.687234   \n",
       "ball_control          0.437123       0.304333     0.816729  0.757680   \n",
       "acceleration          0.093487      -0.005624     0.570575  0.417218   \n",
       "sprint_speed          0.139718       0.023251     0.548166  0.373992   \n",
       "agility               0.055090      -0.029564     0.620826  0.550416   \n",
       "reactions             0.261671       0.183333     0.338409  0.433430   \n",
       "balance               0.109178       0.085823     0.506009  0.497715   \n",
       "shot_power            0.433358       0.209987     0.761075  0.658216   \n",
       "jumping               0.249242       0.172764     0.047893 -0.000518   \n",
       "stamina               0.535709       0.459140     0.498753  0.435850   \n",
       "strength              0.447640       0.300903    -0.102203 -0.118652   \n",
       "long_shots            0.284832       0.101999     0.820785  0.746878   \n",
       "aggression            1.000000       0.702435     0.220701  0.247035   \n",
       "interceptions         0.702435       1.000000    -0.009158  0.145390   \n",
       "positioning           0.220701      -0.009158     1.000000  0.733159   \n",
       "vision                0.247035       0.145390     0.733159  1.000000   \n",
       "penalties             0.246239       0.021083     0.767211  0.661746   \n",
       "marking               0.684734       0.914214    -0.093369  0.034469   \n",
       "standing_tackle       0.710486       0.927035    -0.024136  0.105193   \n",
       "sliding_tackle        0.686803       0.912904    -0.056259  0.065921   \n",
       "gk_diving            -0.544239      -0.444584    -0.598002 -0.458591   \n",
       "gk_handling          -0.542082      -0.446337    -0.593261 -0.454977   \n",
       "gk_kicking           -0.535819      -0.436923    -0.591695 -0.452018   \n",
       "gk_positioning       -0.540228      -0.442662    -0.597001 -0.456084   \n",
       "gk_reflexes          -0.542758      -0.443024    -0.598320 -0.455693   \n",
       "\n",
       "                    penalties   marking  standing_tackle  sliding_tackle  \\\n",
       "overall_rating       0.278143  0.122011         0.152052        0.134891   \n",
       "potential            0.215750  0.068372         0.097823        0.089100   \n",
       "crossing             0.620951  0.274110         0.324442        0.312264   \n",
       "finishing            0.795875 -0.248159        -0.186195       -0.224519   \n",
       "heading_accuracy     0.477403  0.481460         0.505468        0.466825   \n",
       "short_passing        0.660161  0.385064         0.451078        0.411326   \n",
       "volleys              0.786152 -0.148167        -0.082637       -0.117229   \n",
       "dribbling            0.723614  0.079198         0.142647        0.117572   \n",
       "curve                0.717838  0.082268         0.144385        0.117374   \n",
       "free_kick_accuracy   0.717091  0.107587         0.170238        0.134160   \n",
       "long_passing         0.513584  0.492463         0.548308        0.518224   \n",
       "ball_control         0.737187  0.239548         0.304515        0.268021   \n",
       "acceleration         0.393437 -0.028957        -0.000082        0.012371   \n",
       "sprint_speed         0.377718  0.009755         0.038982        0.049277   \n",
       "agility              0.459486 -0.085376        -0.048907       -0.043100   \n",
       "reactions            0.298518  0.086359         0.121102        0.105893   \n",
       "balance              0.396594  0.039722         0.069457        0.078157   \n",
       "shot_power           0.754638  0.143344         0.205187        0.164980   \n",
       "jumping              0.029576  0.173992         0.165862        0.183421   \n",
       "stamina              0.386916  0.425598         0.465969        0.451081   \n",
       "strength            -0.009600  0.314389         0.319819        0.287195   \n",
       "long_shots           0.778312  0.014222         0.083900        0.045772   \n",
       "aggression           0.246239  0.684734         0.710486        0.686803   \n",
       "interceptions        0.021083  0.914214         0.927035        0.912904   \n",
       "positioning          0.767211 -0.093369        -0.024136       -0.056259   \n",
       "vision               0.661746  0.034469         0.105193        0.065921   \n",
       "penalties            1.000000 -0.045089         0.013405       -0.027988   \n",
       "marking             -0.045089  1.000000         0.959189        0.959274   \n",
       "standing_tackle      0.013405  0.959189         1.000000        0.969642   \n",
       "sliding_tackle      -0.027988  0.959274         0.969642        1.000000   \n",
       "gk_diving           -0.573131 -0.438282        -0.480752       -0.447686   \n",
       "gk_handling         -0.567817 -0.441074        -0.482256       -0.449022   \n",
       "gk_kicking          -0.566726 -0.431896        -0.474083       -0.440551   \n",
       "gk_positioning      -0.572689 -0.435872        -0.478378       -0.445475   \n",
       "gk_reflexes         -0.572868 -0.436514        -0.479237       -0.446512   \n",
       "\n",
       "                    gk_diving  gk_handling  gk_kicking  gk_positioning  \\\n",
       "overall_rating       0.029723     0.032112    0.028797        0.032090   \n",
       "potential           -0.008990    -0.008277   -0.011134       -0.011421   \n",
       "crossing            -0.654603    -0.651642   -0.647341       -0.654693   \n",
       "finishing           -0.519915    -0.513952   -0.516438       -0.519262   \n",
       "heading_accuracy    -0.734214    -0.732242   -0.726710       -0.730981   \n",
       "short_passing       -0.736448    -0.732403   -0.728134       -0.734203   \n",
       "volleys             -0.531869    -0.527925   -0.528407       -0.532203   \n",
       "dribbling           -0.707677    -0.702359   -0.700129       -0.705065   \n",
       "curve               -0.584544    -0.580548   -0.579310       -0.586157   \n",
       "free_kick_accuracy  -0.544635    -0.541333   -0.538959       -0.544079   \n",
       "long_passing        -0.609889    -0.605864   -0.602549       -0.607520   \n",
       "ball_control        -0.784109    -0.779062   -0.775141       -0.780926   \n",
       "acceleration        -0.453278    -0.449762   -0.445844       -0.454589   \n",
       "sprint_speed        -0.471004    -0.465618   -0.463962       -0.472691   \n",
       "agility             -0.402478    -0.398713   -0.397502       -0.402400   \n",
       "reactions           -0.007404    -0.005306   -0.007406       -0.005219   \n",
       "balance             -0.417398    -0.412952   -0.410644       -0.416702   \n",
       "shot_power          -0.658996    -0.657326   -0.654593       -0.658657   \n",
       "jumping             -0.072993    -0.071056   -0.070921       -0.069943   \n",
       "stamina             -0.614932    -0.610587   -0.605818       -0.611486   \n",
       "strength            -0.083224    -0.081201   -0.082758       -0.083205   \n",
       "long_shots          -0.587469    -0.583090   -0.582399       -0.586945   \n",
       "aggression          -0.544239    -0.542082   -0.535819       -0.540228   \n",
       "interceptions       -0.444584    -0.446337   -0.436923       -0.442662   \n",
       "positioning         -0.598002    -0.593261   -0.591695       -0.597001   \n",
       "vision              -0.458591    -0.454977   -0.452018       -0.456084   \n",
       "penalties           -0.573131    -0.567817   -0.566726       -0.572689   \n",
       "marking             -0.438282    -0.441074   -0.431896       -0.435872   \n",
       "standing_tackle     -0.480752    -0.482256   -0.474083       -0.478378   \n",
       "sliding_tackle      -0.447686    -0.449022   -0.440551       -0.445475   \n",
       "gk_diving            1.000000     0.964350    0.959023        0.964903   \n",
       "gk_handling          0.964350     1.000000    0.957040        0.964090   \n",
       "gk_kicking           0.959023     0.957040    1.000000        0.958229   \n",
       "gk_positioning       0.964903     0.964090    0.958229        1.000000   \n",
       "gk_reflexes          0.969689     0.963710    0.959022        0.964852   \n",
       "\n",
       "                    gk_reflexes  \n",
       "overall_rating         0.032358  \n",
       "potential             -0.007122  \n",
       "crossing              -0.656178  \n",
       "finishing             -0.520261  \n",
       "heading_accuracy      -0.732507  \n",
       "short_passing         -0.733630  \n",
       "volleys               -0.532171  \n",
       "dribbling             -0.705573  \n",
       "curve                 -0.586084  \n",
       "free_kick_accuracy    -0.544443  \n",
       "long_passing          -0.607834  \n",
       "ball_control          -0.781889  \n",
       "acceleration          -0.452612  \n",
       "sprint_speed          -0.471078  \n",
       "agility               -0.402946  \n",
       "reactions             -0.004770  \n",
       "balance               -0.418148  \n",
       "shot_power            -0.660092  \n",
       "jumping               -0.068916  \n",
       "stamina               -0.615602  \n",
       "strength              -0.081861  \n",
       "long_shots            -0.587427  \n",
       "aggression            -0.542758  \n",
       "interceptions         -0.443024  \n",
       "positioning           -0.598320  \n",
       "vision                -0.455693  \n",
       "penalties             -0.572868  \n",
       "marking               -0.436514  \n",
       "standing_tackle       -0.479237  \n",
       "sliding_tackle        -0.446512  \n",
       "gk_diving              0.969689  \n",
       "gk_handling            0.963710  \n",
       "gk_kicking             0.959022  \n",
       "gk_positioning         0.964852  \n",
       "gk_reflexes            1.000000  "
      ]
     },
     "execution_count": 130,
     "metadata": {},
     "output_type": "execute_result"
    }
   ],
   "source": [
    "df.corr()"
   ]
  },
  {
   "cell_type": "code",
   "execution_count": null,
   "id": "9f8901a8",
   "metadata": {},
   "outputs": [],
   "source": []
  },
  {
   "cell_type": "markdown",
   "id": "5bfc53e7",
   "metadata": {},
   "source": [
    "### Solve using `sklearn`\n",
    "\n",
    "* we will use `LinearRegression` class from `sklearn` library \n",
    "  to fit a linear regression model and use it to generate prediction"
   ]
  },
  {
   "cell_type": "code",
   "execution_count": 131,
   "id": "2fbf12ca",
   "metadata": {
    "ExecuteTime": {
     "end_time": "2022-02-05T15:50:30.750756Z",
     "start_time": "2022-02-05T15:50:30.704711Z"
    }
   },
   "outputs": [],
   "source": [
    "from sklearn.linear_model import LinearRegression"
   ]
  },
  {
   "cell_type": "code",
   "execution_count": 132,
   "id": "1c2b5644",
   "metadata": {
    "ExecuteTime": {
     "end_time": "2022-02-05T15:50:30.765995Z",
     "start_time": "2022-02-05T15:50:30.752757Z"
    }
   },
   "outputs": [],
   "source": [
    "model = LinearRegression(fit_intercept=True)\n",
    "model.fit(x_train, y_train);"
   ]
  },
  {
   "cell_type": "markdown",
   "id": "9b17b843",
   "metadata": {},
   "source": [
    "* explore fitted model parameters"
   ]
  },
  {
   "cell_type": "code",
   "execution_count": 133,
   "id": "787afdfd",
   "metadata": {
    "ExecuteTime": {
     "end_time": "2022-02-05T15:50:30.781716Z",
     "start_time": "2022-02-05T15:50:30.768504Z"
    }
   },
   "outputs": [
    {
     "name": "stdout",
     "output_type": "stream",
     "text": [
      "model_intercept: -6.211029905026145\n",
      "model_slope: 1.0366141627766265\n"
     ]
    }
   ],
   "source": [
    "model_intercept = model.intercept_\n",
    "model_slope = model.coef_[0]\n",
    "print(f'model_intercept: {model_intercept}')\n",
    "print(f'model_slope: {model_slope}')"
   ]
  },
  {
   "cell_type": "markdown",
   "id": "0d9f36d4",
   "metadata": {},
   "source": [
    "* use fitted model to get predictions for test set"
   ]
  },
  {
   "cell_type": "code",
   "execution_count": 134,
   "id": "6e7f42c8",
   "metadata": {
    "ExecuteTime": {
     "end_time": "2022-02-05T15:50:30.796860Z",
     "start_time": "2022-02-05T15:50:30.783228Z"
    }
   },
   "outputs": [
    {
     "data": {
      "text/plain": [
       "array([55.98581986, 65.31534733, 44.58306407, ..., 62.20550484,\n",
       "       54.9492057 , 76.71810312])"
      ]
     },
     "execution_count": 134,
     "metadata": {},
     "output_type": "execute_result"
    }
   ],
   "source": [
    "model_preds = model.predict(x_test)\n",
    "model_preds"
   ]
  },
  {
   "cell_type": "markdown",
   "id": "b7be936e",
   "metadata": {},
   "source": [
    "* explore model quality on test set."
   ]
  },
  {
   "cell_type": "code",
   "execution_count": 135,
   "id": "0d7918e8",
   "metadata": {
    "ExecuteTime": {
     "end_time": "2022-02-05T15:50:30.859941Z",
     "start_time": "2022-02-05T15:50:30.849075Z"
    }
   },
   "outputs": [
    {
     "name": "stdout",
     "output_type": "stream",
     "text": [
      "model metrics on test set\n"
     ]
    },
    {
     "data": {
      "text/plain": [
       "mse     108.345801\n",
       "mae       8.173553\n",
       "mape      0.205500\n",
       "r2        0.681477\n",
       "dtype: float64"
      ]
     },
     "execution_count": 135,
     "metadata": {},
     "output_type": "execute_result"
    }
   ],
   "source": [
    "print('model metrics on test set')\n",
    "metrics_test_1 = get_metrics(y_true=y_test, y_pred=model_preds)\n",
    "metrics_test_1"
   ]
  },
  {
   "cell_type": "markdown",
   "id": "00e37652",
   "metadata": {},
   "source": [
    "* can you explain what those metic values mean?"
   ]
  },
  {
   "cell_type": "code",
   "execution_count": null,
   "id": "35ae5f55",
   "metadata": {},
   "outputs": [],
   "source": []
  },
  {
   "cell_type": "markdown",
   "id": "02c4c46f",
   "metadata": {},
   "source": [
    "#### Task 5. Calculate predictions for test set manually (1 point)\n",
    "\n",
    "Above we used `LinearRegression.predict()` method to obtain predictions. \n",
    "Now let's do it manually!\n",
    "\n",
    "Recall Linear Regression formula:\n",
    "\n",
    "* $ \\hat{y} = w_0 + w_1 \\cdot x, $ \n",
    "\n",
    "    where:\n",
    "    * $w_0$ is an intercept\n",
    "    * $w_1$ is a slope\n",
    "    * $x$ is a predictor\n",
    "    * $\\hat{y}$ is a predicted variable\n",
    "  \n",
    "\n",
    "* use intercept and slope values from fitted LinearRegression model"
   ]
  },
  {
   "cell_type": "code",
   "execution_count": 136,
   "id": "318b9e5a",
   "metadata": {
    "ExecuteTime": {
     "end_time": "2022-02-05T15:50:31.109063Z",
     "start_time": "2022-02-05T15:50:31.097327Z"
    }
   },
   "outputs": [],
   "source": [
    "# use `x_test` for calculations as is (it's a DataFrame with 1 column).\n",
    "# do not convert it to Series or numpy array.\n",
    "\n",
    "# your code here:\n",
    "# model_manual_preds = ..."
   ]
  },
  {
   "cell_type": "code",
   "execution_count": 137,
   "id": "a8a85aa2",
   "metadata": {
    "ExecuteTime": {
     "end_time": "2022-02-05T15:50:31.169787Z",
     "start_time": "2022-02-05T15:50:31.156073Z"
    }
   },
   "outputs": [
    {
     "ename": "NameError",
     "evalue": "name 'model_manual_preds' is not defined",
     "output_type": "error",
     "traceback": [
      "\u001b[1;31m---------------------------------------------------------------------------\u001b[0m",
      "\u001b[1;31mNameError\u001b[0m                                 Traceback (most recent call last)",
      "\u001b[1;32m~\\AppData\\Local\\Temp/ipykernel_532/3870268651.py\u001b[0m in \u001b[0;36m<module>\u001b[1;34m\u001b[0m\n\u001b[1;32m----> 1\u001b[1;33m \u001b[1;32massert\u001b[0m \u001b[0misinstance\u001b[0m\u001b[1;33m(\u001b[0m\u001b[0mmodel_manual_preds\u001b[0m\u001b[1;33m,\u001b[0m \u001b[0mpd\u001b[0m\u001b[1;33m.\u001b[0m\u001b[0mDataFrame\u001b[0m\u001b[1;33m)\u001b[0m\u001b[1;33m\u001b[0m\u001b[1;33m\u001b[0m\u001b[0m\n\u001b[0m",
      "\u001b[1;31mNameError\u001b[0m: name 'model_manual_preds' is not defined"
     ]
    }
   ],
   "source": [
    "assert isinstance(model_manual_preds, pd.DataFrame)"
   ]
  },
  {
   "cell_type": "code",
   "execution_count": 138,
   "id": "33e827e8",
   "metadata": {
    "ExecuteTime": {
     "end_time": "2022-02-05T15:50:31.185196Z",
     "start_time": "2022-02-05T15:50:31.171743Z"
    }
   },
   "outputs": [
    {
     "ename": "NameError",
     "evalue": "name 'model_manual_preds' is not defined",
     "output_type": "error",
     "traceback": [
      "\u001b[1;31m---------------------------------------------------------------------------\u001b[0m",
      "\u001b[1;31mNameError\u001b[0m                                 Traceback (most recent call last)",
      "\u001b[1;32m~\\AppData\\Local\\Temp/ipykernel_532/3740980260.py\u001b[0m in \u001b[0;36m<module>\u001b[1;34m\u001b[0m\n\u001b[0;32m      1\u001b[0m \u001b[1;31m# ensure our manual predictions are the same as model generated\u001b[0m\u001b[1;33m\u001b[0m\u001b[1;33m\u001b[0m\u001b[0m\n\u001b[1;32m----> 2\u001b[1;33m \u001b[1;32massert\u001b[0m \u001b[0mnp\u001b[0m\u001b[1;33m.\u001b[0m\u001b[0mallclose\u001b[0m\u001b[1;33m(\u001b[0m\u001b[0mmodel_preds\u001b[0m\u001b[1;33m,\u001b[0m \u001b[0mmodel_manual_preds\u001b[0m\u001b[1;33m.\u001b[0m\u001b[0miloc\u001b[0m\u001b[1;33m[\u001b[0m\u001b[1;33m:\u001b[0m\u001b[1;33m,\u001b[0m \u001b[1;36m0\u001b[0m\u001b[1;33m]\u001b[0m\u001b[1;33m.\u001b[0m\u001b[0mto_numpy\u001b[0m\u001b[1;33m(\u001b[0m\u001b[1;33m)\u001b[0m\u001b[1;33m)\u001b[0m\u001b[1;33m\u001b[0m\u001b[1;33m\u001b[0m\u001b[0m\n\u001b[0m\u001b[0;32m      3\u001b[0m \u001b[0mprint\u001b[0m\u001b[1;33m(\u001b[0m\u001b[1;34m'success'\u001b[0m\u001b[1;33m)\u001b[0m\u001b[1;33m\u001b[0m\u001b[1;33m\u001b[0m\u001b[0m\n",
      "\u001b[1;31mNameError\u001b[0m: name 'model_manual_preds' is not defined"
     ]
    }
   ],
   "source": [
    "# ensure our manual predictions are the same as model generated\n",
    "assert np.allclose(model_preds, model_manual_preds.iloc[:, 0].to_numpy())\n",
    "print('success')"
   ]
  },
  {
   "cell_type": "code",
   "execution_count": null,
   "id": "e6688081",
   "metadata": {},
   "outputs": [],
   "source": []
  },
  {
   "cell_type": "markdown",
   "id": "fdbca547",
   "metadata": {},
   "source": [
    "#### Task 6. Plot test data and predicted values (1 point)\n",
    "\n",
    "* use `plt.scatter` function as in example above.\n",
    "* first build scatter plot for test data\n",
    "* then build scatter plot with model predictions\n",
    "* add plot title, axis names and legend\n",
    "\n",
    "Hints:\n",
    "* use `alpha` parameter to control opacity and `s` parameter to control size of points.\n",
    "  this will make plot more readable\n",
    "* use `label` parameter to add label to each set of points added to scatter plot\n",
    "* use different color for model predictions. control with parameter `color`"
   ]
  },
  {
   "cell_type": "code",
   "execution_count": null,
   "id": "55948801",
   "metadata": {
    "ExecuteTime": {
     "end_time": "2022-02-05T15:50:31.248662Z",
     "start_time": "2022-02-05T15:50:31.242488Z"
    }
   },
   "outputs": [],
   "source": [
    "# # your code here\n",
    "# plt.scatter(...)\n",
    "# plt.scatter(...)\n",
    "# plt.legend(...);  # adds legend to a plot"
   ]
  },
  {
   "cell_type": "code",
   "execution_count": null,
   "id": "86e69689",
   "metadata": {},
   "outputs": [],
   "source": []
  },
  {
   "cell_type": "code",
   "execution_count": null,
   "id": "d5086aa8",
   "metadata": {},
   "outputs": [],
   "source": []
  },
  {
   "cell_type": "markdown",
   "id": "2073b4aa",
   "metadata": {
    "ExecuteTime": {
     "end_time": "2022-02-02T18:04:08.699161Z",
     "start_time": "2022-02-02T18:04:08.686331Z"
    }
   },
   "source": [
    "### Task 7.  Fit regression model manually (3 points)"
   ]
  },
  {
   "cell_type": "markdown",
   "id": "f3e0a350",
   "metadata": {
    "ExecuteTime": {
     "end_time": "2022-02-02T18:04:08.699161Z",
     "start_time": "2022-02-02T18:04:08.686331Z"
    }
   },
   "source": [
    "So far we have used `sklearn` library to fit linear regression model and obtain predictions. Good job!\n",
    "\n",
    "Recall the formula of Linear regression for 1 variable:\n",
    "\n",
    "* $ \\hat{y} = w_0 + w_1 \\cdot x $\n",
    "\n",
    "Now let's try to fit the model **ourselves**."
   ]
  },
  {
   "cell_type": "markdown",
   "id": "e16e3b73",
   "metadata": {
    "ExecuteTime": {
     "end_time": "2022-02-02T18:04:08.699161Z",
     "start_time": "2022-02-02T18:04:08.686331Z"
    }
   },
   "source": [
    "### Theory\n",
    "\n",
    "Assume our dataset consists of _n_ samples.\n",
    "\n",
    "To fit a Linear regression model means to find the best set of parameters - \n",
    "$(w_0, w_1)$ that minimizes a **Loss function**.<br>\n",
    "In case of Linear regression we choose **Residual sum of squares (RSS)** as a Loss function:\n",
    "\n",
    "* $ L(w, x, y) = RSS(w, x, y) = \\sum_{i=0}^{n-1} (y_i - \\hat{y}_i ) ^ 2 \\rightarrow min $\n",
    "\n",
    "That is conceptually the same as minimizing Mean squared error (MSE):\n",
    "\n",
    "* $ MSE(w, x, y) = \\dfrac{1}{n} \\sum_{i=0}^{n-1} (y_i - \\hat{y}_i ) ^ 2 \\rightarrow min $\n",
    "\n",
    "Here:\n",
    "* $y = (y_0, y_2, ..., y_{n-1}) $ - is a vector of target values we want to predict.\n",
    "  1 value per each sample in our dataset that consists of _n_ samples\n",
    "* $\\hat{y} = (\\hat{y}_0, \\hat{y}_2, ..., \\hat{y}_{n-1}) $ - is a vector of predictions \n",
    "* $\\hat{y}_i = w_0 + w_1 \\cdot x_i$ - is an individual prediction for _i_-th sample in a dataset\n",
    "\n",
    "---\n",
    "\n",
    "Best parameters $w_0$ and $w_1$ can be found using **following formulas**:\n",
    "\n",
    "* $w_0 = \\bar{y} - w_1 \\cdot \\bar{x}$\n",
    "\n",
    "\n",
    "* $w_1 = \\dfrac{\\sum_{i=0}^{n-1}(x_i - \\bar{x}) y_i}{\\sum_{i=0}^{n-1}(x_i - \\bar{x})^2}$\n",
    "\n",
    "\n",
    "* where:\n",
    " * $\\bar{x} = \\dfrac{1}{n} \\sum_{i=0}^{n-1}x_i$ - is the mean of vector $x$\n",
    " \n",
    " * $\\bar{y} = \\dfrac{1}{n} \\sum_{i=0}^{n-1}y_i$ - is the mean of vector $y$\n",
    " \n",
    "You should use these formulas to find the best model parameters in this task.\n",
    " \n",
    "---\n",
    "\n",
    "If you want to learn more you can refer to \n",
    "[Simple linear regression](https://en.wikipedia.org/wiki/Simple_linear_regression) wiki-page.\n",
    "\n",
    "It contains analagous formula for $w_1$ coefficient that is conceptually the same \n",
    "(so it's not a bug in our formula provided above)."
   ]
  },
  {
   "cell_type": "code",
   "execution_count": null,
   "id": "53890a5b",
   "metadata": {},
   "outputs": [],
   "source": []
  },
  {
   "cell_type": "markdown",
   "id": "ed336e62",
   "metadata": {},
   "source": [
    "### Implementation"
   ]
  },
  {
   "cell_type": "markdown",
   "id": "f05805c7",
   "metadata": {},
   "source": [
    "* convert pd.DataFrame and pd.Series (`x_train` and `y_train` respecitvely) to numpy-arrays"
   ]
  },
  {
   "cell_type": "code",
   "execution_count": null,
   "id": "356ab8ef",
   "metadata": {
    "ExecuteTime": {
     "end_time": "2022-02-05T15:50:31.870582Z",
     "start_time": "2022-02-05T15:50:31.860585Z"
    }
   },
   "outputs": [],
   "source": [
    "x = x_train.iloc[:, 0].to_numpy()\n",
    "y = y_train.to_numpy()"
   ]
  },
  {
   "cell_type": "markdown",
   "id": "cb318274",
   "metadata": {},
   "source": [
    "* calculate model parameters ($w_1$ - slope and $w_0$ - intercept) using formulas given above"
   ]
  },
  {
   "cell_type": "code",
   "execution_count": null,
   "id": "a788aeb3",
   "metadata": {
    "ExecuteTime": {
     "end_time": "2022-02-05T15:50:31.980524Z",
     "start_time": "2022-02-05T15:50:31.972377Z"
    }
   },
   "outputs": [],
   "source": [
    "# # your code here:\n",
    "# manual_slope = \n",
    "# manual_intercept = "
   ]
  },
  {
   "cell_type": "code",
   "execution_count": null,
   "id": "5490c970",
   "metadata": {
    "ExecuteTime": {
     "end_time": "2022-02-05T15:50:32.011182Z",
     "start_time": "2022-02-05T15:50:31.997992Z"
    }
   },
   "outputs": [],
   "source": [
    "print(f'manual_intercept: {manual_intercept}')\n",
    "print(f'manual_slope: {manual_slope}')"
   ]
  },
  {
   "cell_type": "code",
   "execution_count": null,
   "id": "52c37ad6",
   "metadata": {
    "ExecuteTime": {
     "end_time": "2022-02-05T15:50:32.026832Z",
     "start_time": "2022-02-05T15:50:32.015585Z"
    }
   },
   "outputs": [],
   "source": [
    "assert round(model_intercept, 9) == round(manual_intercept, 9)\n",
    "assert round(model_slope, 9) == round(manual_slope, 9)\n",
    "print('success')"
   ]
  },
  {
   "cell_type": "code",
   "execution_count": null,
   "id": "5f8a3f8d",
   "metadata": {},
   "outputs": [],
   "source": []
  },
  {
   "cell_type": "code",
   "execution_count": null,
   "id": "611bbdf2",
   "metadata": {},
   "outputs": [],
   "source": []
  },
  {
   "cell_type": "markdown",
   "id": "0833765e",
   "metadata": {},
   "source": [
    "## Linear regression with multiple variables\n",
    "\n",
    "* Now let's use Linear Regression model that uses multiple variables\n",
    "\n",
    "* We will try to predict `dribbling` variable using \n",
    "  `['ball_control', 'short_passing', 'strength', 'sprint_speed']` features"
   ]
  },
  {
   "cell_type": "code",
   "execution_count": null,
   "id": "d5d3f4c5",
   "metadata": {
    "ExecuteTime": {
     "end_time": "2022-02-05T15:50:32.152631Z",
     "start_time": "2022-02-05T15:50:32.128476Z"
    }
   },
   "outputs": [],
   "source": [
    "target = 'dribbling'\n",
    "features = ['ball_control', 'short_passing', 'strength', 'sprint_speed']\n",
    "x_train, y_train, x_test, y_test = get_train_test_data(features, target)"
   ]
  },
  {
   "cell_type": "code",
   "execution_count": null,
   "id": "6da26a4d",
   "metadata": {},
   "outputs": [],
   "source": []
  },
  {
   "cell_type": "markdown",
   "id": "a3844f4d",
   "metadata": {},
   "source": [
    "### Let's explore the data first"
   ]
  },
  {
   "cell_type": "code",
   "execution_count": null,
   "id": "98f0d68a",
   "metadata": {
    "ExecuteTime": {
     "end_time": "2022-02-05T15:50:32.261634Z",
     "start_time": "2022-02-05T15:50:32.255334Z"
    }
   },
   "outputs": [],
   "source": [
    "cols = features + [target]\n",
    "print(cols)"
   ]
  },
  {
   "cell_type": "code",
   "execution_count": null,
   "id": "3467845a",
   "metadata": {},
   "outputs": [],
   "source": []
  },
  {
   "cell_type": "markdown",
   "id": "718f438f",
   "metadata": {},
   "source": [
    "#### Task 8 (1 point)\n",
    "\n",
    "Build pairwise correlation matrix for selected features and target. Visualize it with heatmap.\n",
    "\n",
    "Hints:\n",
    "* use `DF_TRAIN` to build statistics (`x_train` contains only features. target is in `y_train`)\n",
    "* use `pd.DataFrame.corr()` to build correlation matrix\n",
    "* use `sns.heatmap` to build heatmap from correlation matrix. \n",
    "  * use `center` parameter to center your heatmap's colormap at 0\n",
    "  * use diverging colormap (`cmap` parameter)<br>\n",
    "    you can find the list of diverging colormaps\n",
    "    [here](https://matplotlib.org/stable/tutorials/colors/colormaps.html#diverging)<br>\n",
    "    the reason is that we need to easily find both negative and positive correlations.\n",
    "  * use `annot` parameters to add numbers to the plot.\n",
    "* you can print `pd.DataFrame` and build plot in the same cell.<br> \n",
    "  use `display(...)` function that accets `pd.DataFrame` before building the plot\n",
    "  \n",
    "You can refer to [seaborn.heatmap](https://seaborn.pydata.org/generated/seaborn.heatmap.html) documentation"
   ]
  },
  {
   "cell_type": "code",
   "execution_count": null,
   "id": "7154fafc",
   "metadata": {
    "ExecuteTime": {
     "end_time": "2022-02-05T15:50:32.387597Z",
     "start_time": "2022-02-05T15:50:32.373491Z"
    }
   },
   "outputs": [],
   "source": [
    "# # your code here\n",
    "# correlation_matrix = \n",
    "# display(correlation_matrix)\n",
    "# sns.heatmap(...);"
   ]
  },
  {
   "cell_type": "markdown",
   "id": "344d51bf",
   "metadata": {},
   "source": [
    "* what can you say about selected feature set using this correlation matrix?"
   ]
  },
  {
   "cell_type": "code",
   "execution_count": null,
   "id": "60df1074",
   "metadata": {},
   "outputs": [],
   "source": []
  },
  {
   "cell_type": "markdown",
   "id": "2888588a",
   "metadata": {},
   "source": [
    "#### Let's build pairplots for features and target\n",
    "\n",
    "* `plot_kws` parameter accepts dictionary of keyword arguments \n",
    "  that are passed to bivariate plotting function (`sns.scatterplot` in this case)\n",
    "\n",
    "\n",
    "* we set size to 7 (using `s` parameter) to make points smaller and see patterns clearly.<br>\n",
    "  you can compare this to running with not `plot_kws` passed.\n",
    "  \n",
    "\n",
    "* `alpha` parameter also helps to see data distribution clearly\n",
    "\n",
    "\n",
    "* you can also experiment with `kind` parameter - refer to\n",
    "  [seaborn.pairplot](https://seaborn.pydata.org/generated/seaborn.pairplot.html)\n",
    "  documentation for possible values."
   ]
  },
  {
   "cell_type": "code",
   "execution_count": null,
   "id": "2105e05d",
   "metadata": {
    "ExecuteTime": {
     "end_time": "2022-02-05T15:50:41.364056Z",
     "start_time": "2022-02-05T15:50:32.950842Z"
    }
   },
   "outputs": [],
   "source": [
    "sns.pairplot(DF_TRAIN[cols], plot_kws={'s': 7, 'alpha': 0.5});"
   ]
  },
  {
   "cell_type": "markdown",
   "id": "47dd6b58",
   "metadata": {},
   "source": [
    "* what can you say about these scatterplots? is there anything we can use later?"
   ]
  },
  {
   "cell_type": "code",
   "execution_count": null,
   "id": "2fc3c18c",
   "metadata": {},
   "outputs": [],
   "source": []
  },
  {
   "cell_type": "code",
   "execution_count": null,
   "id": "aaf83720",
   "metadata": {},
   "outputs": [],
   "source": []
  },
  {
   "cell_type": "markdown",
   "id": "5685be15",
   "metadata": {},
   "source": [
    " ### Solve using `sklearn`"
   ]
  },
  {
   "cell_type": "code",
   "execution_count": null,
   "id": "656b9de6",
   "metadata": {
    "ExecuteTime": {
     "end_time": "2022-02-05T15:50:41.394842Z",
     "start_time": "2022-02-05T15:50:41.368053Z"
    }
   },
   "outputs": [],
   "source": [
    "model = LinearRegression(fit_intercept=True)\n",
    "model.fit(x_train, y_train);"
   ]
  },
  {
   "cell_type": "code",
   "execution_count": null,
   "id": "44ea3d97",
   "metadata": {},
   "outputs": [],
   "source": []
  },
  {
   "cell_type": "markdown",
   "id": "07f0354b",
   "metadata": {},
   "source": [
    "* explore fitted model parameters"
   ]
  },
  {
   "cell_type": "code",
   "execution_count": null,
   "id": "f515c8ed",
   "metadata": {
    "ExecuteTime": {
     "end_time": "2022-02-05T15:50:41.410999Z",
     "start_time": "2022-02-05T15:50:41.398344Z"
    }
   },
   "outputs": [],
   "source": [
    "model_intercept = model.intercept_\n",
    "model_coef = model.coef_\n",
    "print(f'model_intercept: {model_intercept}')\n",
    "print(f'model_coef: {model_coef}')"
   ]
  },
  {
   "cell_type": "markdown",
   "id": "0e3853fb",
   "metadata": {},
   "source": [
    "* how to interpret these model parameters?"
   ]
  },
  {
   "cell_type": "code",
   "execution_count": null,
   "id": "56a0c707",
   "metadata": {},
   "outputs": [],
   "source": []
  },
  {
   "cell_type": "markdown",
   "id": "6b5df951",
   "metadata": {},
   "source": [
    "* use fitted model to get predictions for test set"
   ]
  },
  {
   "cell_type": "code",
   "execution_count": null,
   "id": "7e86ab5b",
   "metadata": {
    "ExecuteTime": {
     "end_time": "2022-02-05T15:50:41.442057Z",
     "start_time": "2022-02-05T15:50:41.414459Z"
    }
   },
   "outputs": [],
   "source": [
    "model_preds = model.predict(x_test)\n",
    "model_preds"
   ]
  },
  {
   "cell_type": "code",
   "execution_count": null,
   "id": "4c048fc9",
   "metadata": {},
   "outputs": [],
   "source": []
  },
  {
   "cell_type": "markdown",
   "id": "782ef4c3",
   "metadata": {},
   "source": [
    "* explore model quality on test set."
   ]
  },
  {
   "cell_type": "code",
   "execution_count": null,
   "id": "c3ffdc83",
   "metadata": {
    "ExecuteTime": {
     "end_time": "2022-02-05T15:50:41.472214Z",
     "start_time": "2022-02-05T15:50:41.445054Z"
    }
   },
   "outputs": [],
   "source": [
    "print('model metrics on test set')\n",
    "metrics_test_2 = get_metrics(y_true=y_test, y_pred=model_preds)\n",
    "metrics_test_2"
   ]
  },
  {
   "cell_type": "code",
   "execution_count": null,
   "id": "393a5a65",
   "metadata": {},
   "outputs": [],
   "source": []
  },
  {
   "cell_type": "markdown",
   "id": "c8d275ee",
   "metadata": {},
   "source": [
    "* Let's compare `metrics_test_2` against `metrics_test_1`"
   ]
  },
  {
   "cell_type": "code",
   "execution_count": null,
   "id": "a740f433",
   "metadata": {
    "ExecuteTime": {
     "end_time": "2022-02-05T15:50:41.503739Z",
     "start_time": "2022-02-05T15:50:41.475213Z"
    }
   },
   "outputs": [],
   "source": [
    "# combine 2 series in 1 dataframe\n",
    "metrics_comparison = metrics_test_1.to_frame('LR_1v').join(metrics_test_2.rename('LR_mv')).T\n",
    "metrics_comparison"
   ]
  },
  {
   "cell_type": "code",
   "execution_count": null,
   "id": "51191845",
   "metadata": {
    "ExecuteTime": {
     "end_time": "2022-02-05T15:50:42.536930Z",
     "start_time": "2022-02-05T15:50:41.507803Z"
    }
   },
   "outputs": [],
   "source": [
    "fig, ax = plt.subplots(figsize=(14, 5))  # specify figure size\n",
    "metrics_comparison.plot(\n",
    "    kind='bar', layout=(1,4), subplots=True, \n",
    "    title='change in metrics', legend=False, ax=ax\n",
    ");\n",
    "fig.tight_layout();  # prettify subplots. read more in documentation if interested"
   ]
  },
  {
   "cell_type": "markdown",
   "id": "c58e9fea",
   "metadata": {},
   "source": [
    "* did our Linear regression model improve after we've added more features?"
   ]
  },
  {
   "cell_type": "code",
   "execution_count": null,
   "id": "da42688b",
   "metadata": {},
   "outputs": [],
   "source": []
  },
  {
   "cell_type": "code",
   "execution_count": null,
   "id": "1bc8bba6",
   "metadata": {},
   "outputs": [],
   "source": []
  },
  {
   "cell_type": "markdown",
   "id": "78cddb01",
   "metadata": {},
   "source": [
    "### Task 9. Implement Linear regression model with multiple variables yourself (5 points)\n",
    "\n",
    "Okay, we've fitted Linear regression model using `sklearn` library. Now let's do the math ourselves!"
   ]
  },
  {
   "cell_type": "markdown",
   "id": "48d65890",
   "metadata": {},
   "source": [
    "### Prerequisites\n",
    "\n",
    "For this task you will need to:\n",
    "* have basic understanding of Linear algebra (operations with vectors and matrices)\n",
    "* know how to perform matrix multiplication, transposition and inversion using `numpy` \n",
    "  (these functions can be found in NumPy documentation)\n",
    "* carefully read the theory below and refer to wiki / textbooks / other sources if required\n",
    "\n",
    "---\n",
    "\n",
    "### Theory and notation\n",
    "\n",
    "When we extend Linear regression model on case with $m$ variables we get the following formula:\n",
    "\n",
    "* $ \\hat{y}\n",
    "= 1 \\cdot w_0 + x_1 \\cdot w_1 + x_2 \\cdot w_2 + ... + x_m \\cdot w_m\n",
    "= \\sum_{i=0}^{m} x_i w_i\n",
    "$,\n",
    "\n",
    "where:\n",
    "* $x = (1, x_1, ..., x_m)$ is an _(m+1)_-element feature vector. \n",
    "    * $x_0 = 1$ is a special term introduced in the beginning of feature vector \n",
    "      to add intercept to Linear regression model\n",
    "    * $x_i, i=\\overline{1,m}$ is an _i_-th feature value.\n",
    "* $w = (w_0, w_1, ..., w_m)$ is an _(m+1)_-element parameter vector\n",
    "    * $w_0$ - the first value of parameter vector - is referred to as **intercept**\n",
    "* $\\hat{y}$ is a predicted value\n",
    "\n",
    "----\n",
    "\n",
    "The formula above is used to calculate predictions for 1 sample.\n",
    "i.e. we predict 1 scalar $\\hat{y}$ from 1 feature vector $x$.\n",
    "\n",
    "If we have a dataset of $n$ samples $(x, y)$ - we get a system of linear equations:\n",
    "\n",
    "$\n",
    "\\begin{cases}\n",
    " \\hat{y}^{(0)} = \\sum_{i=0}^{m} x_i^{(0)} w_i \\\\\n",
    " \\hat{y}^{(1)} = \\sum_{i=0}^{m} x_i^{(1)} w_i \\\\\n",
    " ... \\\\\\\n",
    " \\hat{y}^{(n-1)} = \\sum_{i=0}^{m} x_i^{(n-1)} w_i\n",
    "\\end{cases}\n",
    "$\n",
    "\n",
    "Such system can be rewritten in a succinct matrix form (a way that we write equations in Linear algebra):\n",
    "\n",
    "* $ \\hat{y} = X \\cdot w $\n",
    "\n",
    "And the task of minimizing Residual sum of squares (RSS) now looks:\n",
    "* $ RSS(w, x, y) = \\|y - \\hat{y}\\|_2^2 = \\|y - X \\cdot w \\|_2^2 \\rightarrow min $\n",
    "\n",
    "Here:\n",
    "* $y = (y^{(0)}, y^{(1)}, ..., y^{(n-1)})$ now denotes a **vector of target values** we want to predict<br>\n",
    "  $y^{(j)}$ is a target value for _j_-th sample in a dataset.\n",
    "* $\\hat{y} = (\\hat{y}^{(0)}, ..., \\hat{y}^{(n-1)})$ \n",
    "  now denotes a **vector of predictions** <br>\n",
    "  $\\hat{y}^{(j)}$ denotes a predicted value for _j_-th sample in a dataset\n",
    "* $X$ is a **feature matrix** of shape $n \\times (m+1)$. <br>\n",
    "  _n_ rows correspond to _n_ data samples and _m+1_ columns correspond to _m+1_ features that describe each sample.\n",
    "* $w = (w_0, w_1, ..., w_m)$ is still a **model parameter vector**\n",
    "* $X \\cdot w$ denotes a **matrix-by-vector** multiplication\n",
    "* $\\|\\cdot\\|_2$ denotes an $L_2$-norm and is basically a square root of sum of squares of vector elements:<br>\n",
    "  $\\|a\\|_2 = \\sqrt{a_0^2 + a_1^2 + ... + a_{n-1}^2}$ for an _n_-component vector _a_.\n",
    "  Thus, RSS means the same as before:<br>\n",
    "  $ RSS(w, x, y) = \\|y - \\hat{y}\\|_2^2 = \n",
    "  (y^{(0)} - \\hat{y}^{(0)})^2 + (y^{(1)} - \\hat{y}^{(1)})^2 + ... + (y^{(n-1)} - \\hat{y}^{(n-1)})^2 = \n",
    "  \\sum_{j=0}^{n-1} (y^{(j)} - \\hat{y}^{(j)})^2\n",
    "  $\n",
    "\n",
    "Note:\n",
    "* we now use **superscripts** $\\hat{y}^{(i)}$ instead of **subscripts** $\\hat{y}_i$ as before\n",
    "  to denote _i_-th sample in a dataset\n",
    "* it is done to be able to refer both to sample index (denoted by superscript)\n",
    "  and feature index (denoted by subscript) in a single equation. \n",
    "  \n",
    "  Thus:\n",
    "  * $x^{(j)} = (1, x^{(j)}_1, x^{(j)}_2, ..., x^{(j)}_{m})$  now denotes \n",
    "    _j_-th feature vector in a dataset with _m+1_ features\n",
    "  * $x_i^{(j)}$ denotes an _i_-th feature value of _j_-th feature vector\n",
    "  * $X = \n",
    "  \\begin{bmatrix}\n",
    "      1 & x^{(0)}_1 & x^{(0)}_2 & ... & x^{(0)}_{m} \\\\\n",
    "      1 & x^{(1)}_1 & x^{(1)}_2 & ... & x^{(1)}_{m} \\\\\n",
    "      ... \\\\\n",
    "      1 & x^{(n-1)}_1 & x^{(n-1)}_2 & ... & x^{(n-1)}_{m}\n",
    "    \\end{bmatrix}\n",
    "    $ is an $n \\times (m+1)$ feature matrix. <br><br>\n",
    "    $X$ can also be written as a column-vector of feature vectors:<br><br>\n",
    "    $ X = \\begin{bmatrix}x^{(0)} \\\\ x^{(1)} \\\\ ... \\\\ x^{(n-1)}\\end{bmatrix} $\n",
    "\n",
    "---\n",
    "\n",
    "### Fit \n",
    "\n",
    "**<TL;DR\\>** Enough notation! How can we fit this model?\n",
    "\n",
    "By minimizin Residual sum of squares (RSS) for a Linear regression equation in a matrix form\n",
    "we now get a **single** formula to find **all model parameters**!\n",
    "* $ w = (X^T X)^{-1} X^T y $\n",
    "\n",
    "Beautiful, isn't it? <br>\n",
    "Recall, how we got individual formulas for $w_0, w_1$ in case of Linear regression with 1 predictor.<br>\n",
    "Now we can find the whole parameter vector _w_ at once!\n",
    "\n",
    "In the formula above:\n",
    "* $X$ is an $n \\times (m+1)$ dimensional feature matrix\n",
    "\n",
    "\n",
    "* $X^T$ is a **transposed** feature matrix.<br>\n",
    "  Transposition is a mathematical operation of \"swapping\" matrix dimensions.<br>\n",
    "  So $X^T$ is an $(m+1) \\times n$ dimensional matrix  \n",
    "\n",
    "\n",
    "* $ (X^T X)^{-1} $ is the inverse matrix of $ X^T X $\n",
    "\n",
    "Notes:\n",
    "* Because of inversion operation performed on $X^T X$ matrix \n",
    "  there are difficulties in fitting Linear regression model in some cases.\n",
    "  \n",
    "  We will talk more on that later in the assignment.\n",
    "\n",
    "---\n",
    "    \n",
    "If you want to learn more you can refer to \n",
    "[Linear least squares](https://en.wikipedia.org/wiki/Linear_least_squares)\n",
    "wiki-page."
   ]
  },
  {
   "cell_type": "code",
   "execution_count": null,
   "id": "68ce76c6",
   "metadata": {},
   "outputs": [],
   "source": []
  },
  {
   "cell_type": "markdown",
   "id": "9ba996dc",
   "metadata": {},
   "source": [
    "### Implementation"
   ]
  },
  {
   "cell_type": "markdown",
   "id": "82abd2cd",
   "metadata": {},
   "source": [
    "* implement `LRMatrixForm` class and `add_ones_column` function.<br>\n",
    "  docstrings describe what each function/method should do - so read the docstrings.\n",
    "  \n",
    "  \n",
    "* [what is a docstring?](https://www.python.org/dev/peps/pep-0257/#what-is-a-docstring)\n",
    "\n",
    "\n",
    "Note:\n",
    "* `LRMatrixForm` class must support 2 modes: **with** fitting intercept parameter and **without**.<br>\n",
    "  The behavior is controlled by `fit_intercept` parameter passed to class constructor."
   ]
  },
  {
   "cell_type": "code",
   "execution_count": null,
   "id": "f775f913",
   "metadata": {
    "ExecuteTime": {
     "end_time": "2022-02-05T15:50:42.552627Z",
     "start_time": "2022-02-05T15:50:42.543552Z"
    }
   },
   "outputs": [],
   "source": [
    "from sklearn.exceptions import NotFittedError"
   ]
  },
  {
   "cell_type": "code",
   "execution_count": null,
   "id": "1a03a77c",
   "metadata": {
    "ExecuteTime": {
     "end_time": "2022-02-05T15:50:42.614912Z",
     "start_time": "2022-02-05T15:50:42.555773Z"
    }
   },
   "outputs": [],
   "source": [
    "def add_ones_column(x):\n",
    "    \"\"\" \n",
    "    Add column consisting of ones to the beginning of matrix `x`. \n",
    "    Used when fitting `LRMatrixForm` with `fit_intercept` param set to True.\n",
    "    \"\"\"\n",
    "    # HINTS: \n",
    "    # * create a vector that consists of ones: (1, 1, ..., 1)\n",
    "    # * then use either `np.column_stack` or `np.hstack` function to add this vector to a matrix\n",
    "    \n",
    "    # # your code here:\n",
    "    # return ...\n",
    "\n",
    "class LRMatrixForm:\n",
    "    \"\"\"\n",
    "    Class that encapsulates Linear regression model with multiplie variables.\n",
    "    Calculations are performed using matrix formula.\n",
    "    \n",
    "    Use `fit()` method to fit the model on data.\n",
    "    Use `predict()` method to calculate predictions when the model is fitted.\n",
    "    \"\"\"\n",
    "    def __init__(self, fit_intercept: bool = True):\n",
    "        \"\"\"\n",
    "        fit_intercept: \n",
    "        Whether to calculate the intercept for this model. \n",
    "        If set to False, no intercept will be used in calculations \n",
    "        (i.e. data is expected to be centered).\n",
    "        \"\"\"\n",
    "        self.fit_intercept = fit_intercept\n",
    "        self.w_ = None  # vector with all model parameters (intercept and weights)\n",
    "    \n",
    "    def fit(self, x_train: pd.DataFrame, y_train: pd.Series):\n",
    "        X = x_train.to_numpy()  # convert pd.DataFrame to numpy matrix\n",
    "        \n",
    "        if self.fit_intercept is True:\n",
    "            # when creating a model with intercept term we need to extend feature matrix\n",
    "            # with a column consisting of ones (1, 1, ..., 1).\n",
    "            X = add_ones_column(X)\n",
    "            \n",
    "        # # your code here to calculate model parameters:\n",
    "        # self.w_ = \n",
    "        \n",
    "    @property\n",
    "    def coef_(self):\n",
    "        \"\"\" Property that returns model parameters without the intercept term. \"\"\"\n",
    "        if self.w_ is None:\n",
    "            raise NotFittedError()\n",
    "        # # your code here:\n",
    "        # return ...\n",
    "    \n",
    "    @property\n",
    "    def intercept_(self):\n",
    "        \"\"\" Property that returns intercept term from model parameters. \"\"\"\n",
    "        if self.fit_intercept is not True:\n",
    "            return 0.0  # for compatibility with sklearn\n",
    "        if self.w_ is None:\n",
    "            raise NotFittedError()\n",
    "        # # your code here:\n",
    "        # return ...\n",
    "    \n",
    "    def predict(self, x_test: pd.DataFrame):\n",
    "        \"\"\" Generate predictions using fitted model parameters. \"\"\"\n",
    "        if self.w_ is None:\n",
    "            raise NotFittedError()\n",
    "        \n",
    "        X = x_test.to_numpy()  # convert pd.DataFrame to numpy matrix\n",
    "        \n",
    "        if self.fit_intercept is True:\n",
    "            X = add_ones_column(X)\n",
    "            \n",
    "        # # your code here to calculate predictions\n",
    "        # return ..."
   ]
  },
  {
   "cell_type": "code",
   "execution_count": null,
   "id": "0a4efa65",
   "metadata": {},
   "outputs": [],
   "source": []
  },
  {
   "cell_type": "markdown",
   "id": "a1681d76",
   "metadata": {},
   "source": [
    "### Validate your implementation is identical to library version"
   ]
  },
  {
   "cell_type": "code",
   "execution_count": null,
   "id": "9bdcb929",
   "metadata": {
    "ExecuteTime": {
     "end_time": "2022-02-05T15:50:42.690735Z",
     "start_time": "2022-02-05T15:50:42.649536Z"
    }
   },
   "outputs": [],
   "source": [
    "lr_matrix_form = LRMatrixForm(fit_intercept=True)\n",
    "fit_and_evaluate(lr_matrix_form, x_train, y_train, x_test, y_test)"
   ]
  },
  {
   "cell_type": "code",
   "execution_count": null,
   "id": "cfb7471a",
   "metadata": {
    "ExecuteTime": {
     "end_time": "2022-02-05T15:50:42.706335Z",
     "start_time": "2022-02-05T15:50:42.694620Z"
    }
   },
   "outputs": [],
   "source": [
    "print(f'intercept: {lr_matrix_form.intercept_}')\n",
    "print(f'coef: {lr_matrix_form.coef_}')"
   ]
  },
  {
   "cell_type": "code",
   "execution_count": null,
   "id": "a48ca91b",
   "metadata": {
    "ExecuteTime": {
     "end_time": "2022-02-05T15:50:42.721626Z",
     "start_time": "2022-02-05T15:50:42.709232Z"
    }
   },
   "outputs": [],
   "source": [
    "assert np.allclose(model.predict(x_test), lr_matrix_form.predict(x_test))\n",
    "assert round(model.intercept_, 9) == round(lr_matrix_form.intercept_, 9)\n",
    "assert np.allclose(model.coef_, lr_matrix_form.coef_)"
   ]
  },
  {
   "cell_type": "code",
   "execution_count": null,
   "id": "f8cac9be",
   "metadata": {},
   "outputs": [],
   "source": []
  },
  {
   "cell_type": "markdown",
   "id": "51c30499",
   "metadata": {},
   "source": [
    "* let's take a look at difference between model predictions and target values:"
   ]
  },
  {
   "cell_type": "code",
   "execution_count": null,
   "id": "7bf9b608",
   "metadata": {
    "ExecuteTime": {
     "end_time": "2022-02-05T15:50:42.752837Z",
     "start_time": "2022-02-05T15:50:42.724242Z"
    }
   },
   "outputs": [],
   "source": [
    "(model.predict(x_test) - y_test).describe()"
   ]
  },
  {
   "cell_type": "code",
   "execution_count": null,
   "id": "560f1295",
   "metadata": {},
   "outputs": [],
   "source": []
  },
  {
   "cell_type": "code",
   "execution_count": null,
   "id": "eab69472",
   "metadata": {},
   "outputs": [],
   "source": []
  },
  {
   "cell_type": "markdown",
   "id": "6bc5a656",
   "metadata": {},
   "source": [
    "### Now let's compare `sklearn` model and yours with `fit_intercept=False`"
   ]
  },
  {
   "cell_type": "code",
   "execution_count": null,
   "id": "3d9f8ca7",
   "metadata": {
    "ExecuteTime": {
     "end_time": "2022-02-05T15:50:42.800245Z",
     "start_time": "2022-02-05T15:50:42.756837Z"
    }
   },
   "outputs": [],
   "source": [
    "model = LinearRegression(fit_intercept=False)\n",
    "fit_and_evaluate(model, x_train, y_train, x_test, y_test)"
   ]
  },
  {
   "cell_type": "code",
   "execution_count": null,
   "id": "dc0ecf04",
   "metadata": {
    "ExecuteTime": {
     "end_time": "2022-02-05T15:50:42.832215Z",
     "start_time": "2022-02-05T15:50:42.803391Z"
    }
   },
   "outputs": [],
   "source": [
    "lr_matrix_form = LRMatrixForm(fit_intercept=False)\n",
    "fit_and_evaluate(lr_matrix_form, x_train, y_train, x_test, y_test)"
   ]
  },
  {
   "cell_type": "markdown",
   "id": "62a89e61",
   "metadata": {},
   "source": [
    "* Compare the metrics on a test set of a model fitted **with** intercept parameter \n",
    "  vs model fitted **without** intercept.\n",
    "* Which model has a better performance? Can you explain why?"
   ]
  },
  {
   "cell_type": "code",
   "execution_count": null,
   "id": "3ec4462e",
   "metadata": {
    "ExecuteTime": {
     "end_time": "2022-02-05T15:50:42.847828Z",
     "start_time": "2022-02-05T15:50:42.835364Z"
    }
   },
   "outputs": [],
   "source": [
    "print(f'intercept: {lr_matrix_form.intercept_}')\n",
    "print(f'coef: {lr_matrix_form.coef_}')"
   ]
  },
  {
   "cell_type": "code",
   "execution_count": null,
   "id": "2e5c392d",
   "metadata": {
    "ExecuteTime": {
     "end_time": "2022-02-05T15:50:42.863579Z",
     "start_time": "2022-02-05T15:50:42.850971Z"
    }
   },
   "outputs": [],
   "source": [
    "assert np.allclose(model.predict(x_test), lr_matrix_form.predict(x_test))\n",
    "assert round(model.intercept_, 9) == round(lr_matrix_form.intercept_, 9)\n",
    "assert np.allclose(model.coef_, lr_matrix_form.coef_)"
   ]
  },
  {
   "cell_type": "code",
   "execution_count": null,
   "id": "4e91c4cd",
   "metadata": {},
   "outputs": [],
   "source": []
  },
  {
   "cell_type": "markdown",
   "id": "4b916b4f",
   "metadata": {},
   "source": [
    "* let's take a look at difference between model predictions and target values again:"
   ]
  },
  {
   "cell_type": "code",
   "execution_count": null,
   "id": "75639630",
   "metadata": {
    "ExecuteTime": {
     "end_time": "2022-02-05T15:50:42.894776Z",
     "start_time": "2022-02-05T15:50:42.867045Z"
    }
   },
   "outputs": [],
   "source": [
    "(model.predict(x_test) - y_test).describe()"
   ]
  },
  {
   "cell_type": "markdown",
   "id": "56521d58",
   "metadata": {},
   "source": [
    "* compare this to the same statistics obtained with model fitted **with intercept**\n",
    "* notice how the _mean_ value of difference changed"
   ]
  },
  {
   "cell_type": "code",
   "execution_count": null,
   "id": "50918df6",
   "metadata": {},
   "outputs": [],
   "source": []
  },
  {
   "cell_type": "code",
   "execution_count": null,
   "id": "7cd55589",
   "metadata": {},
   "outputs": [],
   "source": []
  },
  {
   "cell_type": "markdown",
   "id": "38901be9",
   "metadata": {},
   "source": [
    "## Limitations of Linear regression\n",
    "\n",
    "Recall the formula to find Linear regression parameters in case of multiple variables:\n",
    "* $ w = (X^T X)^{-1} X^T y $\n",
    "\n",
    "As noted above, there might be difficulties with fitting Linear regression model\n",
    "because of inverting $X^T X$ matrix.\n",
    "\n",
    "Not every matrix can be inverted.\n",
    "\n",
    "An example of such case is when 2 or more features have strong linear relationship between them.<br>\n",
    "It means that one of variables can be **linearly predicted from the others with a substantial degree of accuracy**.<br>\n",
    "Such situation is named **collinearitry** (in case of 2 related variables)\n",
    "or **multicollinearity** (>2 related features).<br>\n",
    "\n",
    "Collinearity is associated with high value of correlation coefficient between 2 related features.\n",
    "\n",
    "You can refer to [multicollinearity](https://en.wikipedia.org/wiki/Multicollinearity) \n",
    "wiki page to read more.\n",
    "\n",
    "The intuition why multicollinearity is bad is that Linear Regression tries to capture \n",
    "a contribution of each individual feature to target independently of other features.\n",
    "This is not possible with the data that has collinear features, \n",
    "as change in one such variable is always associated with change in other/others.\n",
    "\n",
    "There are a whole bunch of really interesting thoughts that can help you \n",
    "to capture the intuition behind the concept of multicollinearity.<br>\n",
    "You can find some of them \n",
    "[here](https://stats.stackexchange.com/questions/1149/is-there-an-intuitive-explanation-why-multicollinearity-is-a-problem-in-linear-r)."
   ]
  },
  {
   "cell_type": "code",
   "execution_count": null,
   "id": "64079dbd",
   "metadata": {},
   "outputs": [],
   "source": []
  },
  {
   "cell_type": "markdown",
   "id": "e721083f",
   "metadata": {},
   "source": [
    "### Collinearity\n",
    "\n",
    "* Let's construct and add a new feature to our dataset that is going to be _collinear_ with another one:"
   ]
  },
  {
   "cell_type": "code",
   "execution_count": null,
   "id": "b20fecd4",
   "metadata": {
    "ExecuteTime": {
     "end_time": "2022-02-05T15:50:42.909912Z",
     "start_time": "2022-02-05T15:50:42.897985Z"
    }
   },
   "outputs": [],
   "source": [
    "# select features as usual\n",
    "target = 'dribbling'\n",
    "features = ['ball_control', 'short_passing', 'strength', 'sprint_speed']\n",
    "x_train, y_train, x_test, y_test = get_train_test_data(features, target)"
   ]
  },
  {
   "cell_type": "code",
   "execution_count": null,
   "id": "f493217b",
   "metadata": {
    "ExecuteTime": {
     "end_time": "2022-02-05T15:50:42.940438Z",
     "start_time": "2022-02-05T15:50:42.913437Z"
    }
   },
   "outputs": [],
   "source": [
    "def add_collinear_column(_df: pd.DataFrame, orig_col: str, new_col: str):    \n",
    "    \"\"\" \n",
    "    Construct new column as a linear transform of another one + tiny noise.\n",
    "    y = f(x) = a1 * x + a2 + noise.\n",
    "    \n",
    "    Alternatively, we could apply no linear transform at all (set a1=1, a2=0)\n",
    "    And only add some noise to existing column. Results would be the same.\n",
    "    \"\"\"\n",
    "    # linear transform\n",
    "    _df[new_col] = 2 * _df[orig_col] + 3\n",
    "    # add tiny normal noise\n",
    "    _df[new_col] += np.random.normal(loc=0, scale=0.0001, size=_df.shape[0])\n",
    "\n",
    "orig_col = 'sprint_speed'\n",
    "new_col = 'sprint_speed_2'\n",
    "add_collinear_column(x_train, orig_col, new_col)\n",
    "add_collinear_column(x_test, orig_col, new_col)\n",
    "features.append(new_col)"
   ]
  },
  {
   "cell_type": "code",
   "execution_count": null,
   "id": "852985d6",
   "metadata": {
    "ExecuteTime": {
     "end_time": "2022-02-05T15:50:42.956152Z",
     "start_time": "2022-02-05T15:50:42.943901Z"
    }
   },
   "outputs": [],
   "source": [
    "corr_coef = np.corrcoef(x_train[orig_col], x_train[new_col])[0, 1]\n",
    "print(f'correlation between {orig_col} and {new_col}: {corr_coef}')"
   ]
  },
  {
   "cell_type": "markdown",
   "id": "515bbaa6",
   "metadata": {},
   "source": [
    "* As expected, correlation coefficient between collinear features \n",
    "  (`sprint_speed` and `sprint_speed_2`) is close to 1.<br>\n",
    "  Thus they are highly correlated."
   ]
  },
  {
   "cell_type": "code",
   "execution_count": null,
   "id": "7e7cd781",
   "metadata": {
    "ExecuteTime": {
     "end_time": "2022-02-05T15:50:42.987635Z",
     "start_time": "2022-02-05T15:50:42.964593Z"
    }
   },
   "outputs": [],
   "source": [
    "# visualize sample of train data\n",
    "check = x_train.sample(5).copy()\n",
    "# add helper column to see how much noise was added\n",
    "check['sprint_speed_2_wo_noise'] = 2 * check['sprint_speed'] + 3\n",
    "check"
   ]
  },
  {
   "cell_type": "markdown",
   "id": "b6576093",
   "metadata": {},
   "source": [
    "### let's fit a Linear Regression model on this feature set:"
   ]
  },
  {
   "cell_type": "code",
   "execution_count": null,
   "id": "f57456c9",
   "metadata": {
    "ExecuteTime": {
     "end_time": "2022-02-05T15:50:43.034810Z",
     "start_time": "2022-02-05T15:50:42.990938Z"
    }
   },
   "outputs": [],
   "source": [
    "model = LinearRegression(fit_intercept=True)\n",
    "fit_and_evaluate(model, x_train, y_train, x_test, y_test)"
   ]
  },
  {
   "cell_type": "markdown",
   "id": "c56e433e",
   "metadata": {},
   "source": [
    "* Both train and test metrics look reasonable\n",
    "* Now let's explore model params:"
   ]
  },
  {
   "cell_type": "code",
   "execution_count": null,
   "id": "0df62784",
   "metadata": {
    "ExecuteTime": {
     "end_time": "2022-02-05T15:50:43.050054Z",
     "start_time": "2022-02-05T15:50:43.038334Z"
    }
   },
   "outputs": [],
   "source": [
    "print(f'intercept: {model.intercept_}')\n",
    "print(f'coef: {model.coef_.tolist()}')"
   ]
  },
  {
   "cell_type": "markdown",
   "id": "ad05ce9c",
   "metadata": {},
   "source": [
    "* Weights that correspond to `sprint_speed` and `sprint_speed_2` columns should have gone insanely high!\n",
    "\n",
    "\n",
    "* That is not ok. Large weights and weights instability are the sign of \n",
    "    [**overfitting**](https://en.wikipedia.org/wiki/Overfitting).\n",
    "\n",
    "    According to the definition, overfitting is:<br>\n",
    "    \"_the production of an analysis that corresponds too closely \n",
    "    or exactly to a particular set of data,<br>\n",
    "    and may therefore fail to fit additional data \n",
    "    or predict future observations reliably_\".\n",
    "    \n",
    "    \n",
    "* But what does that mean? Let's try to generate predictions with our model."
   ]
  },
  {
   "cell_type": "markdown",
   "id": "27f2c1a2",
   "metadata": {},
   "source": [
    "### generate predictions using our fitted model"
   ]
  },
  {
   "cell_type": "code",
   "execution_count": null,
   "id": "ce37f029",
   "metadata": {
    "ExecuteTime": {
     "end_time": "2022-02-05T15:50:43.080517Z",
     "start_time": "2022-02-05T15:50:43.052815Z"
    }
   },
   "outputs": [],
   "source": [
    "check = x_test.head(2).copy()\n",
    "check[target] = y_test.head(2)\n",
    "check['preds'] = model.predict(check[features])\n",
    "check"
   ]
  },
  {
   "cell_type": "code",
   "execution_count": null,
   "id": "f76ad35f",
   "metadata": {
    "ExecuteTime": {
     "end_time": "2022-02-05T15:50:43.111095Z",
     "start_time": "2022-02-05T15:50:43.084033Z"
    }
   },
   "outputs": [],
   "source": [
    "get_metrics(y_true=check[target], y_pred=check['preds'])"
   ]
  },
  {
   "cell_type": "markdown",
   "id": "d1f81390",
   "metadata": {
    "ExecuteTime": {
     "end_time": "2022-02-04T12:22:55.993894Z",
     "start_time": "2022-02-04T12:22:55.983089Z"
    }
   },
   "source": [
    "* predictions look good, right? "
   ]
  },
  {
   "cell_type": "markdown",
   "id": "e9edbe54",
   "metadata": {
    "ExecuteTime": {
     "end_time": "2022-02-04T12:22:55.993894Z",
     "start_time": "2022-02-04T12:22:55.983089Z"
    }
   },
   "source": [
    "### but what if we change `sprint_speed` values a bit? let's add some small `delta`"
   ]
  },
  {
   "cell_type": "code",
   "execution_count": null,
   "id": "a00e6e92",
   "metadata": {
    "ExecuteTime": {
     "end_time": "2022-02-05T15:50:43.157969Z",
     "start_time": "2022-02-05T15:50:43.114463Z"
    }
   },
   "outputs": [],
   "source": [
    "delta = 1  # some small value\n",
    "check['sprint_speed'] += delta\n",
    "check['preds_2'] = model.predict(check[features])\n",
    "check"
   ]
  },
  {
   "cell_type": "code",
   "execution_count": null,
   "id": "16d52262",
   "metadata": {
    "ExecuteTime": {
     "end_time": "2022-02-05T15:50:43.190117Z",
     "start_time": "2022-02-05T15:50:43.161045Z"
    }
   },
   "outputs": [],
   "source": [
    "get_metrics(y_true=check[target], y_pred=check['preds_2'])"
   ]
  },
  {
   "cell_type": "markdown",
   "id": "5157da8e",
   "metadata": {},
   "source": [
    "* Wow, new predictions doesn't look even close to the target!<br>\n",
    "  Our model doesn't look like a good model anymore.\n",
    "  \n",
    "\n",
    "* That is exactly what overfitting is. <br>\n",
    "  **We fail to obtain reasonable predictions when we apply our model on new data**."
   ]
  },
  {
   "cell_type": "markdown",
   "id": "f4845200",
   "metadata": {},
   "source": [
    "### One might notice that we have changed only 1 of 2 collinear features\n",
    "* Indeed, giant model weights that correspond to these 2 features, should cancel each one out<br>\n",
    "  if relation between feature values stays the same.  "
   ]
  },
  {
   "cell_type": "markdown",
   "id": "5e896312",
   "metadata": {},
   "source": [
    "* Let's check this out.<br>\n",
    "  We have performed following transform:<br>\n",
    "  `sprint_speed_changed = sprint_speed + delta`<br>\n",
    "  \n",
    "\n",
    "* How should we change `sprint_speed_2` to match the same data distribution from train data?<br>\n",
    "  \n",
    "  Let's calculate (we will ignore the noise added):  \n",
    "  `sprint_speed_2_changed - sprint_speed_2 = f(sprint_speed_changed) - f(sprint_speed) =`<br>\n",
    "  `= a1 * sprint_speed_changed + a2 - (a1 * sprint_speed + a2) = a1 * delta`"
   ]
  },
  {
   "cell_type": "code",
   "execution_count": null,
   "id": "2b518c01",
   "metadata": {
    "ExecuteTime": {
     "end_time": "2022-02-05T15:50:43.236719Z",
     "start_time": "2022-02-05T15:50:43.193445Z"
    }
   },
   "outputs": [],
   "source": [
    "# here we change the second of collinear features \n",
    "# using the same coefficient \n",
    "# that was used in linear transform in `add_collinear_column()` function.\n",
    "# we don't need to add intercept coefficient as it cancels it out (you can do the math yourself).\n",
    "check['sprint_speed_2'] += 2 * delta\n",
    "check['preds_3'] = model.predict(check[features])\n",
    "check"
   ]
  },
  {
   "cell_type": "markdown",
   "id": "111fb101",
   "metadata": {
    "ExecuteTime": {
     "end_time": "2022-02-05T09:31:30.281700Z",
     "start_time": "2022-02-05T09:31:30.265131Z"
    }
   },
   "source": [
    "* In the last example we see that new predictions (`preds_3`) now look similar to the first ones <br>\n",
    "  (`preds` - calculated before changing `sprint_speed` value)\n",
    "\n",
    "\n",
    "* So, if values of collinear features change accordingly - we are safe, right? <br>\n",
    "  How do your think, can we always rely on this assumtion?"
   ]
  },
  {
   "cell_type": "code",
   "execution_count": null,
   "id": "5d69e75e",
   "metadata": {},
   "outputs": [],
   "source": []
  },
  {
   "cell_type": "markdown",
   "id": "668e5765",
   "metadata": {},
   "source": [
    "### What just happened\n",
    "\n",
    "* The answer to the question above is: **no, we can't**.\n",
    "  \n",
    "  \n",
    "* Yes, we have checked that if collinear features values are changed accordingly \n",
    "  (i.e. their **initial relation is preserved**), <br>\n",
    "  model predictions look reasonable and accurate.\n",
    "  \n",
    "  But this will not always be the case on the real data.\n",
    "  \n",
    "  We can't be sure that the data \n",
    "  that we apply our fitted model on (`x_test`, for example)<br>\n",
    "  preserves **exactly the same data distribution** as the data that model was trained on (`x_train`).\n",
    "  \n",
    "  \n",
    "\n",
    "**Why this happened?**\n",
    "\n",
    "* When feature matrix contains collinear or multicollinear features (the problem of **multicollinearity**),\n",
    "  inversion of such a matrix is numerically unstable.<br>\n",
    "  This leads to large values and imprecise estimates of model parameters.\n",
    "\n",
    "**How to detect multicollinearity**\n",
    "* You should monitor your model weights. For example using $L_2$ norm:<br>\n",
    "  $ L_2(w) = \\|w\\|_2 = \\sqrt{w_1^2 + w_2^2 + ... + w_n^2} = \\sqrt{\\sum_{i=1}^{n} w_i^2} $<br>\n",
    "  If any of model weights are huge - $L_2$ norm will also have large value.\n",
    "  \n",
    "  \n",
    "* Monitor model performance on validation data. \n",
    "  If the metrics are poor and prediction look huge,<br>\n",
    "  you should check if collinear features are present in train data.\n",
    "\n",
    "**How to fix the issue**\n",
    "\n",
    "* For each set of collinear features, keep only 1 of them and remove the rest.<br>\n",
    "  The best regression models are those in which the predictor variables each correlate highly \n",
    "  with the target variable,<br>\n",
    "  but correlate at most only minimally with each other.\n",
    "  \n",
    "\n",
    "* Combine collinear features into new ones\n",
    "\n",
    "  \n",
    "* Use regularization (will be covered later in the course)."
   ]
  },
  {
   "cell_type": "code",
   "execution_count": null,
   "id": "d7e48904",
   "metadata": {},
   "outputs": [],
   "source": []
  },
  {
   "cell_type": "markdown",
   "id": "446877ee",
   "metadata": {},
   "source": [
    "### Task 10. Implement function to calculate $L_2$-norm. (1 point)\n",
    "* Use formula above to implement $L_2$ norm"
   ]
  },
  {
   "cell_type": "code",
   "execution_count": null,
   "id": "32710cd3",
   "metadata": {
    "ExecuteTime": {
     "end_time": "2022-02-05T15:50:43.252641Z",
     "start_time": "2022-02-05T15:50:43.239359Z"
    }
   },
   "outputs": [],
   "source": [
    "def l2_norm(arr: Iterable):\n",
    "    # your code here\n",
    "    raise NotImplementedError()"
   ]
  },
  {
   "cell_type": "code",
   "execution_count": null,
   "id": "90b43edb",
   "metadata": {},
   "outputs": [],
   "source": []
  },
  {
   "cell_type": "markdown",
   "id": "e313206b",
   "metadata": {},
   "source": [
    "### Calculate $L_2$-norm value for current model\n",
    "* you should get high value that represents large values of some model parameters"
   ]
  },
  {
   "cell_type": "code",
   "execution_count": null,
   "id": "43a1844c",
   "metadata": {
    "ExecuteTime": {
     "end_time": "2022-02-05T15:50:43.283426Z",
     "start_time": "2022-02-05T15:50:43.271895Z"
    }
   },
   "outputs": [],
   "source": [
    "l2_norm(model.coef_)"
   ]
  },
  {
   "cell_type": "code",
   "execution_count": null,
   "id": "3c2c313a",
   "metadata": {},
   "outputs": [],
   "source": []
  },
  {
   "cell_type": "markdown",
   "id": "31e6829b",
   "metadata": {},
   "source": [
    "### Multicollinearity\n",
    "  \n",
    "* It's important to notice that in case of multicollinearity,\n",
    "  correlation coefficient between each pair of related variables\n",
    "  could be **not so high**.\n",
    "  \n",
    "  So **it may be hard to find multicollinear features in your data**.\n",
    "  \n",
    "\n",
    "* Let's visualize it in practice.\n",
    "\n",
    "  We will build a new feature that has a strong linear relationship with 2 other features:\n",
    "  $x_1 = a_0 + a_2 x_2 + a_3 x_3 + noise$\n",
    "\n",
    "  We want to show that Linear regression model will still suffer from multicollinearity,<br>\n",
    "  but correlation coefficients betweent each pair of multicollinear features will be **less close to 1**\n",
    "  than it was in case of collinearity."
   ]
  },
  {
   "cell_type": "code",
   "execution_count": null,
   "id": "4ff091a8",
   "metadata": {
    "ExecuteTime": {
     "end_time": "2022-02-05T15:50:43.345601Z",
     "start_time": "2022-02-05T15:50:43.287206Z"
    }
   },
   "outputs": [],
   "source": [
    "target = 'dribbling'\n",
    "features = ['ball_control', 'short_passing', 'strength', 'sprint_speed']\n",
    "x_train, y_train, x_test, y_test = get_train_test_data(features, target)\n",
    "\n",
    "def add_collinear_column(_df: pd.DataFrame, col1: str, col2: str, new_col: str):    \n",
    "    _df[new_col] = _df[col1] + _df[col2] + 5\n",
    "    _df[new_col] += np.random.normal(loc=0, scale=0.0001, size=_df.shape[0])\n",
    "\n",
    "add_collinear_column(x_train, col1='sprint_speed', col2='strength', new_col='foo')\n",
    "add_collinear_column(x_test, col1='sprint_speed', col2='strength', new_col='foo')\n",
    "features.append(new_col)\n",
    "\n",
    "model = LinearRegression(fit_intercept=True)\n",
    "m = fit_and_evaluate(model, x_train, y_train, x_test, y_test)\n",
    "display(m)\n",
    "print(f'intercept: {model.intercept_}')\n",
    "print(f'coef: {model.coef_.tolist()}')"
   ]
  },
  {
   "cell_type": "markdown",
   "id": "7a3529a8",
   "metadata": {},
   "source": [
    "* As before, model parameters for multicollinear features should be large\n",
    "\n",
    "* Let's calculate $L_2$-norm value - it should also be large"
   ]
  },
  {
   "cell_type": "code",
   "execution_count": null,
   "id": "cc949bfc",
   "metadata": {
    "ExecuteTime": {
     "end_time": "2022-02-05T15:50:43.361054Z",
     "start_time": "2022-02-05T15:50:43.348627Z"
    }
   },
   "outputs": [],
   "source": [
    "l2_norm(model.coef_)"
   ]
  },
  {
   "cell_type": "code",
   "execution_count": null,
   "id": "03fc5b9a",
   "metadata": {},
   "outputs": [],
   "source": []
  },
  {
   "cell_type": "markdown",
   "id": "a8d76f80",
   "metadata": {},
   "source": [
    "#### Task 11. Visualize correlation matrix for `x_train`  (1 point)\n",
    "* Build annotated heatmap (use `annot` param to add values to plot, select diverging `cmap` and center it at 0)\n",
    "* You should see that `foo` feature is correlated with ones it was created from,<br>\n",
    "  but each of these correlation coefficients **is not so close to 1**"
   ]
  },
  {
   "cell_type": "code",
   "execution_count": null,
   "id": "0357d435",
   "metadata": {
    "ExecuteTime": {
     "end_time": "2022-02-05T15:50:43.376553Z",
     "start_time": "2022-02-05T15:50:43.364300Z"
    }
   },
   "outputs": [],
   "source": [
    "# your code here"
   ]
  },
  {
   "cell_type": "code",
   "execution_count": null,
   "id": "d4312104",
   "metadata": {},
   "outputs": [],
   "source": []
  },
  {
   "cell_type": "code",
   "execution_count": null,
   "id": "cf7efe14",
   "metadata": {},
   "outputs": [],
   "source": []
  },
  {
   "cell_type": "markdown",
   "id": "dd16a084",
   "metadata": {},
   "source": [
    "### Regularization\n",
    "\n",
    "* The concept of regularization (that was mentioned above) is simple.\n",
    "\n",
    "  We modify Loss function (RSS in case of Linear regression) in such a way<br>\n",
    "  to penalize for large values of model parameters.\n",
    "  \n",
    "  \n",
    "* $L_2$ regularization, also named as \n",
    "  [Tikhonov regularization](https://en.wikipedia.org/wiki/Tikhonov_regularization), \n",
    "  adds $L_2$ term to loss function:\n",
    "\n",
    "  $L(w,x,y) = RSS(w,y) + \\alpha L_2(w) = \\|y - \\hat{y}\\|_2^2 + \\alpha \\|w\\|_2^2 \n",
    "  = \\|y - X \\cdot w \\|_2^2 + \\alpha \\|w\\|_2^2$\n",
    "  \n",
    "  parameter $ \\alpha \\ge 0 $ controls the ammount of regularization applied\n",
    "  \n",
    "\n",
    "* Linear regression implemented with $L_2$ regularization is named a **Ridge regression**.\n",
    "\n",
    "\n",
    "* Ridge regression is implemented in `Ridge` class in `sklearn` library\n",
    "\n",
    "---\n",
    "\n",
    "Let's see how applying regularization changes our model."
   ]
  },
  {
   "cell_type": "code",
   "execution_count": null,
   "id": "6b822aca",
   "metadata": {
    "ExecuteTime": {
     "end_time": "2022-02-05T15:50:43.937621Z",
     "start_time": "2022-02-05T15:50:43.926206Z"
    }
   },
   "outputs": [],
   "source": [
    "from sklearn.linear_model import Ridge"
   ]
  },
  {
   "cell_type": "markdown",
   "id": "54959d90",
   "metadata": {},
   "source": [
    "* at first fit `Ridge` without any regularization to ensure we get similar results \n",
    "  to using `LinearRegression`"
   ]
  },
  {
   "cell_type": "code",
   "execution_count": null,
   "id": "80b5faea",
   "metadata": {
    "ExecuteTime": {
     "end_time": "2022-02-05T15:50:44.001329Z",
     "start_time": "2022-02-05T15:50:43.942367Z"
    }
   },
   "outputs": [],
   "source": [
    "# `solver` parameters determines the algorithm used to solve regression task.\n",
    "# we fix it to be `svd` to achieve desired results.\n",
    "model_r = Ridge(alpha=0, fit_intercept=True, solver='svd')\n",
    "fit_and_evaluate(model_r, x_train, y_train, x_test, y_test)"
   ]
  },
  {
   "cell_type": "code",
   "execution_count": null,
   "id": "752bc47e",
   "metadata": {
    "ExecuteTime": {
     "end_time": "2022-02-05T15:50:44.016893Z",
     "start_time": "2022-02-05T15:50:44.004264Z"
    }
   },
   "outputs": [],
   "source": [
    "print(f'intercept: {model_r.intercept_}')\n",
    "print(f'coef: {model_r.coef_.tolist()}')\n",
    "print(f'l2 norm: {l2_norm(model_r.coef_)}')"
   ]
  },
  {
   "cell_type": "markdown",
   "id": "a78c49ee",
   "metadata": {},
   "source": [
    "* some model parameters should be large, as well as the $L_2$-norm value\n",
    "* now, let's add some regularization"
   ]
  },
  {
   "cell_type": "code",
   "execution_count": null,
   "id": "4cb06351",
   "metadata": {
    "ExecuteTime": {
     "end_time": "2022-02-05T15:50:44.063416Z",
     "start_time": "2022-02-05T15:50:44.020333Z"
    }
   },
   "outputs": [],
   "source": [
    "model_r = Ridge(alpha=0.01, fit_intercept=True, solver='svd')\n",
    "fit_and_evaluate(model_r, x_train, y_train, x_test, y_test)"
   ]
  },
  {
   "cell_type": "code",
   "execution_count": null,
   "id": "2fa549ec",
   "metadata": {
    "ExecuteTime": {
     "end_time": "2022-02-05T15:50:44.078980Z",
     "start_time": "2022-02-05T15:50:44.066065Z"
    }
   },
   "outputs": [],
   "source": [
    "print(f'intercept: {model_r.intercept_}')\n",
    "print(f'coef: {model_r.coef_.tolist()}')\n",
    "print(f'l2 norm: {l2_norm(model_r.coef_)}')"
   ]
  },
  {
   "cell_type": "markdown",
   "id": "246453e3",
   "metadata": {},
   "source": [
    "* notice how parameter values changed\n",
    "* also notice how $L_2$-norm values decreased"
   ]
  },
  {
   "cell_type": "code",
   "execution_count": null,
   "id": "1df0b007",
   "metadata": {},
   "outputs": [],
   "source": []
  },
  {
   "cell_type": "markdown",
   "id": "3ce0180e",
   "metadata": {},
   "source": [
    "## Task 12. Putting all together. (up to 10 points)\n",
    "\n",
    "In the final task we'll try to recap all that we have learnt so far.\n",
    "\n",
    "Your task is to build a Linear regression model with multiple variables to predict `agility` variable.<br>\n",
    "Only `LinearRegression` class is allowed to be used for modeling.<br>\n",
    "\n",
    "Steps you need to follow:\n",
    "\n",
    "* Make a new train/test split with new proportion: 70% on train and 30% on test data **(1 point)**\n",
    "\n",
    "\n",
    "* Fit a model **(up to 6 points)**\n",
    "    \n",
    "    * Choose >= 10 features from training set as initial set of features\n",
    "      Explain your choice. **(1 point)**\n",
    "      \n",
    "    * Visualize correlation matrix for selected features **(1 point)**\n",
    "    \n",
    "    * Analyze if collinear/multicollinear features are present in your feature set.<br>\n",
    "      Process collinear/multicollinear features if they are present:<br>\n",
    "      remove redundant features, combine features into new ones, etc **(up to 3 points)**\n",
    "     \n",
    "    * Fit the model and calculate metrics on train and test sets<br>\n",
    "      **(1 point max. -0.25 points per each metric that was not implemented in the beginning of the assignment)**\n",
    "    \n",
    "\n",
    "* Analyze fitted model performance **(up to 2 points)**:\n",
    "    * Print fitted model parameters and calculate their $L_2$-norm value **(1 point)**\n",
    "    * Make conclusion whether your model overfitted or not. Provide your arguments. **(1 point)**\n",
    "\n",
    "\n",
    "* Write a short report about the work done **(1 point)**<br>\n",
    "  Can you find a logical explanation for high correlation of some of your features?<br>\n",
    "  Are you satisfied with the quality of predictions?<br>\n",
    "  How could you pottentially improve the model?<br>\n",
    "  Any other thoughts.\n",
    "\n",
    "\n",
    "**Penalties:**\n",
    "- **0 points are assigned for the whole task** if used a model different from:\n",
    "    - `sklearn.linear_model.LinearRegression`\n",
    "    - or `LRMatrixForm`"
   ]
  },
  {
   "cell_type": "code",
   "execution_count": null,
   "id": "e2ad74a4",
   "metadata": {},
   "outputs": [],
   "source": []
  },
  {
   "cell_type": "code",
   "execution_count": null,
   "id": "52ec77c7",
   "metadata": {},
   "outputs": [],
   "source": []
  }
 ],
 "metadata": {
  "kernelspec": {
   "display_name": "Python 3 (ipykernel)",
   "language": "python",
   "name": "python3"
  },
  "language_info": {
   "codemirror_mode": {
    "name": "ipython",
    "version": 3
   },
   "file_extension": ".py",
   "mimetype": "text/x-python",
   "name": "python",
   "nbconvert_exporter": "python",
   "pygments_lexer": "ipython3",
   "version": "3.9.7"
  },
  "toc": {
   "base_numbering": 1,
   "nav_menu": {},
   "number_sections": true,
   "sideBar": true,
   "skip_h1_title": false,
   "title_cell": "Table of Contents",
   "title_sidebar": "Contents",
   "toc_cell": false,
   "toc_position": {
    "height": "calc(100% - 180px)",
    "left": "10px",
    "top": "150px",
    "width": "248px"
   },
   "toc_section_display": true,
   "toc_window_display": true
  }
 },
 "nbformat": 4,
 "nbformat_minor": 5
}
